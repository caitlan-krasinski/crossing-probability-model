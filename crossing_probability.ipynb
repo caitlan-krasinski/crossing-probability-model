{
 "cells": [
  {
   "cell_type": "code",
   "execution_count": 2,
   "metadata": {},
   "outputs": [],
   "source": [
    "import pandas as pd\n",
    "import numpy as np\n",
    "import matplotlib.pyplot as plt\n",
    "\n",
    "from statsbombpy import sb\n",
    "from mplsoccer import Pitch, VerticalPitch\n",
    "\n",
    "from tqdm import tqdm\n",
    "import warnings\n",
    "warnings.filterwarnings('ignore')"
   ]
  },
  {
   "cell_type": "markdown",
   "metadata": {},
   "source": [
    "# collect all cross events "
   ]
  },
  {
   "cell_type": "code",
   "execution_count": 3,
   "metadata": {},
   "outputs": [
    {
     "data": {
      "text/plain": [
       "array([3788753, 3788765, 3795107, 3795221, 3795506, 3794688, 3794692,\n",
       "       3794686, 3794687, 3794685, 3788774, 3788771, 3788772, 3788768,\n",
       "       3788767, 3788763, 3788759, 3788758, 3788757, 3788745, 3788746,\n",
       "       3794691, 3794690, 3794689, 3788769, 3788761, 3788764, 3788766,\n",
       "       3788754, 3788755, 3788773, 3788762, 3788760, 3788747, 3788741,\n",
       "       3795220, 3788770, 3795108, 3795187, 3795109, 3788756, 3788749,\n",
       "       3788750, 3788748, 3788751, 3788752, 3788742, 3788775, 3788776,\n",
       "       3788743, 3788744])"
      ]
     },
     "execution_count": 3,
     "metadata": {},
     "output_type": "execute_result"
    }
   ],
   "source": [
    "matches = sb.matches(competition_id=55, season_id=43)\n",
    "matches = matches[matches['match_status_360'] == 'available']\n",
    "match_ids = matches.match_id.unique()\n",
    "match_ids"
   ]
  },
  {
   "cell_type": "code",
   "execution_count": 149,
   "metadata": {},
   "outputs": [
    {
     "data": {
      "text/plain": [
       "Index(['50_50', 'ball_receipt_outcome', 'ball_recovery_recovery_failure',\n",
       "       'carry_end_location', 'clearance_aerial_won', 'clearance_body_part',\n",
       "       'clearance_head', 'clearance_left_foot', 'clearance_other',\n",
       "       'clearance_right_foot', 'counterpress', 'dribble_nutmeg',\n",
       "       'dribble_outcome', 'dribble_overrun', 'duel_outcome', 'duel_type',\n",
       "       'duration', 'foul_committed_advantage', 'foul_committed_card',\n",
       "       'foul_committed_offensive', 'foul_committed_type', 'foul_won_advantage',\n",
       "       'foul_won_defensive', 'goalkeeper_body_part', 'goalkeeper_end_location',\n",
       "       'goalkeeper_outcome', 'goalkeeper_position', 'goalkeeper_technique',\n",
       "       'goalkeeper_type', 'id', 'index', 'interception_outcome', 'location',\n",
       "       'match_id', 'minute', 'miscontrol_aerial_won', 'off_camera', 'out',\n",
       "       'pass_aerial_won', 'pass_angle', 'pass_assisted_shot_id',\n",
       "       'pass_body_part', 'pass_cross', 'pass_cut_back', 'pass_end_location',\n",
       "       'pass_goal_assist', 'pass_height', 'pass_length',\n",
       "       'pass_miscommunication', 'pass_no_touch', 'pass_outcome',\n",
       "       'pass_outswinging', 'pass_recipient', 'pass_shot_assist',\n",
       "       'pass_straight', 'pass_switch', 'pass_technique', 'pass_through_ball',\n",
       "       'pass_type', 'period', 'play_pattern', 'player', 'player_id',\n",
       "       'position', 'possession', 'possession_team', 'possession_team_id',\n",
       "       'related_events', 'second', 'shot_aerial_won', 'shot_body_part',\n",
       "       'shot_end_location', 'shot_first_time', 'shot_freeze_frame',\n",
       "       'shot_key_pass_id', 'shot_outcome', 'shot_statsbomb_xg',\n",
       "       'shot_technique', 'shot_type', 'substitution_outcome',\n",
       "       'substitution_replacement', 'tactics', 'team', 'timestamp', 'type',\n",
       "       'under_pressure'],\n",
       "      dtype='object')"
      ]
     },
     "execution_count": 149,
     "metadata": {},
     "output_type": "execute_result"
    }
   ],
   "source": [
    "events.columns"
   ]
  },
  {
   "cell_type": "code",
   "execution_count": 172,
   "metadata": {},
   "outputs": [
    {
     "name": "stderr",
     "output_type": "stream",
     "text": [
      "  8%|▊         | 4/51 [00:12<02:33,  3.27s/it]"
     ]
    },
    {
     "name": "stdout",
     "output_type": "stream",
     "text": [
      "fail\n"
     ]
    },
    {
     "name": "stderr",
     "output_type": "stream",
     "text": [
      " 31%|███▏      | 16/51 [01:09<02:03,  3.54s/it]"
     ]
    },
    {
     "name": "stdout",
     "output_type": "stream",
     "text": [
      "fail\n"
     ]
    },
    {
     "name": "stderr",
     "output_type": "stream",
     "text": [
      "\r",
      " 33%|███▎      | 17/51 [01:11<01:53,  3.33s/it]"
     ]
    },
    {
     "name": "stdout",
     "output_type": "stream",
     "text": [
      "fail\n"
     ]
    },
    {
     "name": "stderr",
     "output_type": "stream",
     "text": [
      " 51%|█████     | 26/51 [01:44<01:25,  3.44s/it]"
     ]
    },
    {
     "name": "stdout",
     "output_type": "stream",
     "text": [
      "fail\n"
     ]
    },
    {
     "name": "stderr",
     "output_type": "stream",
     "text": [
      " 84%|████████▍ | 43/51 [02:42<00:27,  3.50s/it]"
     ]
    },
    {
     "name": "stdout",
     "output_type": "stream",
     "text": [
      "fail\n"
     ]
    },
    {
     "name": "stderr",
     "output_type": "stream",
     "text": [
      " 88%|████████▊ | 45/51 [02:48<00:19,  3.27s/it]"
     ]
    },
    {
     "name": "stdout",
     "output_type": "stream",
     "text": [
      "fail\n"
     ]
    },
    {
     "name": "stderr",
     "output_type": "stream",
     "text": [
      "100%|██████████| 51/51 [03:09<00:00,  3.71s/it]\n"
     ]
    },
    {
     "data": {
      "text/plain": [
       "887"
      ]
     },
     "execution_count": 172,
     "metadata": {},
     "output_type": "execute_result"
    }
   ],
   "source": [
    "# collect all passing events \n",
    "cols = ['teammate', 'actor', 'location_x', 'id',\n",
    "           'player', 'position', 'team', 'type', 'timestamp', \n",
    "           'pass_end_location', 'pass_length', 'pass_height',\n",
    "           'pass_outcome', 'pass_recipient', 'pass_cross', 'interception_outcome',\n",
    "           'pass_aerial_won', 'pass_technique', 'play_pattern', 'pass_goal_assist']\n",
    "\n",
    "cross_df = pd.DataFrame(columns=cols)\n",
    "\n",
    "matches = sb.matches(competition_id=55, season_id=43)\n",
    "match_ids = matches[matches['match_status_360'] == 'available'].match_id.unique()\n",
    "\n",
    "for match_id in tqdm(match_ids):\n",
    "    \n",
    "    events = sb.events(match_id=match_id)\n",
    "    match_frames = sb.frames(match_id=match_id, fmt='dataframe')\n",
    "\n",
    "    # join the events to the frames \n",
    "    df = pd.merge(match_frames, events, left_on='id', right_on='id', how='left')\n",
    "    \n",
    "    try:\n",
    "        # take relevant rows \n",
    "        df = df[cols]\n",
    "\n",
    "        # filter for crosses only\n",
    "        df = df[df['pass_cross'] == True]\n",
    "\n",
    "        # append to overall df\n",
    "        cross_df = cross_df.append(df)\n",
    "    except:\n",
    "        print('fail')\n",
    "\n",
    "\n",
    "\n",
    "len(cross_df.id.unique())"
   ]
  },
  {
   "cell_type": "code",
   "execution_count": 173,
   "metadata": {},
   "outputs": [
    {
     "data": {
      "text/plain": [
       "True    473\n",
       "Name: pass_goal_assist, dtype: int64"
      ]
     },
     "execution_count": 173,
     "metadata": {},
     "output_type": "execute_result"
    }
   ],
   "source": [
    "cross_df.pass_goal_assist.value_counts()"
   ]
  },
  {
   "cell_type": "code",
   "execution_count": null,
   "metadata": {},
   "outputs": [],
   "source": []
  },
  {
   "cell_type": "code",
   "execution_count": null,
   "metadata": {},
   "outputs": [],
   "source": []
  },
  {
   "cell_type": "code",
   "execution_count": null,
   "metadata": {},
   "outputs": [],
   "source": []
  },
  {
   "cell_type": "code",
   "execution_count": 158,
   "metadata": {},
   "outputs": [
    {
     "data": {
      "text/plain": [
       "array([nan], dtype=object)"
      ]
     },
     "execution_count": 158,
     "metadata": {},
     "output_type": "execute_result"
    }
   ],
   "source": [
    "cross_df.interception_outcome.unique()"
   ]
  },
  {
   "cell_type": "code",
   "execution_count": 159,
   "metadata": {},
   "outputs": [
    {
     "data": {
      "text/plain": [
       "True    125\n",
       "Name: pass_aerial_won, dtype: int64"
      ]
     },
     "execution_count": 159,
     "metadata": {},
     "output_type": "execute_result"
    }
   ],
   "source": [
    "cross_df.pass_aerial_won.value_counts()"
   ]
  },
  {
   "cell_type": "code",
   "execution_count": 160,
   "metadata": {},
   "outputs": [
    {
     "data": {
      "text/plain": [
       "Through Ball    170\n",
       "Name: pass_technique, dtype: int64"
      ]
     },
     "execution_count": 160,
     "metadata": {},
     "output_type": "execute_result"
    }
   ],
   "source": [
    "cross_df.pass_technique.value_counts()"
   ]
  },
  {
   "cell_type": "code",
   "execution_count": 170,
   "metadata": {},
   "outputs": [
    {
     "data": {
      "text/plain": [
       "(60, 9203)"
      ]
     },
     "execution_count": 170,
     "metadata": {},
     "output_type": "execute_result"
    }
   ],
   "source": [
    "count1 = 0\n",
    "count2 = 0\n",
    "for id, row in cross_df.iterrows():\n",
    "    if row.pass_technique == 'Through Ball' and row.pass_outcome == 'Incomplete':\n",
    "        count1+=1\n",
    "    elif row.pass_aerial_won and row.pass_outcome == 'Incomplete':\n",
    "        count2+=1\n",
    "\n",
    "count1, count2"
   ]
  },
  {
   "cell_type": "code",
   "execution_count": 144,
   "metadata": {},
   "outputs": [
    {
     "data": {
      "text/plain": [
       "High Pass      11027\n",
       "Ground Pass     2463\n",
       "Low Pass        2163\n",
       "Name: pass_height, dtype: int64"
      ]
     },
     "execution_count": 144,
     "metadata": {},
     "output_type": "execute_result"
    }
   ],
   "source": [
    "cross_df.pass_height.value_counts()"
   ]
  },
  {
   "cell_type": "markdown",
   "metadata": {},
   "source": [
    "majority of passes are made high in the air"
   ]
  },
  {
   "cell_type": "code",
   "execution_count": 6,
   "metadata": {},
   "outputs": [
    {
     "data": {
      "text/plain": [
       "Incomplete          9263\n",
       "Out                  880\n",
       "Unknown              310\n",
       "Pass Offside          49\n",
       "Injury Clearance      21\n",
       "Name: pass_outcome, dtype: int64"
      ]
     },
     "execution_count": 6,
     "metadata": {},
     "output_type": "execute_result"
    }
   ],
   "source": [
    "cross_df.pass_outcome.value_counts()"
   ]
  },
  {
   "cell_type": "code",
   "execution_count": 7,
   "metadata": {},
   "outputs": [
    {
     "data": {
      "text/html": [
       "<div>\n",
       "<style scoped>\n",
       "    .dataframe tbody tr th:only-of-type {\n",
       "        vertical-align: middle;\n",
       "    }\n",
       "\n",
       "    .dataframe tbody tr th {\n",
       "        vertical-align: top;\n",
       "    }\n",
       "\n",
       "    .dataframe thead th {\n",
       "        text-align: right;\n",
       "    }\n",
       "</style>\n",
       "<table border=\"1\" class=\"dataframe\">\n",
       "  <thead>\n",
       "    <tr style=\"text-align: right;\">\n",
       "      <th></th>\n",
       "      <th>teammate</th>\n",
       "      <th>actor</th>\n",
       "      <th>location_x</th>\n",
       "      <th>id</th>\n",
       "      <th>player</th>\n",
       "      <th>position</th>\n",
       "      <th>team</th>\n",
       "      <th>type</th>\n",
       "      <th>timestamp</th>\n",
       "      <th>pass_end_location</th>\n",
       "      <th>pass_length</th>\n",
       "      <th>pass_height</th>\n",
       "      <th>pass_outcome</th>\n",
       "      <th>pass_recipient</th>\n",
       "      <th>pass_cross</th>\n",
       "    </tr>\n",
       "  </thead>\n",
       "  <tbody>\n",
       "    <tr>\n",
       "      <th>1705</th>\n",
       "      <td>True</td>\n",
       "      <td>False</td>\n",
       "      <td>[83.92959, 10.46831]</td>\n",
       "      <td>be4fe0c8-657b-44e5-aaeb-6f40aa244c23</td>\n",
       "      <td>Daniel O\"Shaughnessy</td>\n",
       "      <td>Left Center Back</td>\n",
       "      <td>Finland</td>\n",
       "      <td>Pass</td>\n",
       "      <td>00:02:23.674</td>\n",
       "      <td>[104.1, 30.2]</td>\n",
       "      <td>27.434467</td>\n",
       "      <td>High Pass</td>\n",
       "      <td>Incomplete</td>\n",
       "      <td>Teemu Pukki</td>\n",
       "      <td>True</td>\n",
       "    </tr>\n",
       "    <tr>\n",
       "      <th>1706</th>\n",
       "      <td>True</td>\n",
       "      <td>False</td>\n",
       "      <td>[87.65039, 17.39273]</td>\n",
       "      <td>be4fe0c8-657b-44e5-aaeb-6f40aa244c23</td>\n",
       "      <td>Daniel O\"Shaughnessy</td>\n",
       "      <td>Left Center Back</td>\n",
       "      <td>Finland</td>\n",
       "      <td>Pass</td>\n",
       "      <td>00:02:23.674</td>\n",
       "      <td>[104.1, 30.2]</td>\n",
       "      <td>27.434467</td>\n",
       "      <td>High Pass</td>\n",
       "      <td>Incomplete</td>\n",
       "      <td>Teemu Pukki</td>\n",
       "      <td>True</td>\n",
       "    </tr>\n",
       "    <tr>\n",
       "      <th>1707</th>\n",
       "      <td>False</td>\n",
       "      <td>False</td>\n",
       "      <td>[88.3027, 6.261185]</td>\n",
       "      <td>be4fe0c8-657b-44e5-aaeb-6f40aa244c23</td>\n",
       "      <td>Daniel O\"Shaughnessy</td>\n",
       "      <td>Left Center Back</td>\n",
       "      <td>Finland</td>\n",
       "      <td>Pass</td>\n",
       "      <td>00:02:23.674</td>\n",
       "      <td>[104.1, 30.2]</td>\n",
       "      <td>27.434467</td>\n",
       "      <td>High Pass</td>\n",
       "      <td>Incomplete</td>\n",
       "      <td>Teemu Pukki</td>\n",
       "      <td>True</td>\n",
       "    </tr>\n",
       "    <tr>\n",
       "      <th>1708</th>\n",
       "      <td>False</td>\n",
       "      <td>False</td>\n",
       "      <td>[89.11674, 13.76878]</td>\n",
       "      <td>be4fe0c8-657b-44e5-aaeb-6f40aa244c23</td>\n",
       "      <td>Daniel O\"Shaughnessy</td>\n",
       "      <td>Left Center Back</td>\n",
       "      <td>Finland</td>\n",
       "      <td>Pass</td>\n",
       "      <td>00:02:23.674</td>\n",
       "      <td>[104.1, 30.2]</td>\n",
       "      <td>27.434467</td>\n",
       "      <td>High Pass</td>\n",
       "      <td>Incomplete</td>\n",
       "      <td>Teemu Pukki</td>\n",
       "      <td>True</td>\n",
       "    </tr>\n",
       "    <tr>\n",
       "      <th>1709</th>\n",
       "      <td>True</td>\n",
       "      <td>False</td>\n",
       "      <td>[89.41762, 2.43725]</td>\n",
       "      <td>be4fe0c8-657b-44e5-aaeb-6f40aa244c23</td>\n",
       "      <td>Daniel O\"Shaughnessy</td>\n",
       "      <td>Left Center Back</td>\n",
       "      <td>Finland</td>\n",
       "      <td>Pass</td>\n",
       "      <td>00:02:23.674</td>\n",
       "      <td>[104.1, 30.2]</td>\n",
       "      <td>27.434467</td>\n",
       "      <td>High Pass</td>\n",
       "      <td>Incomplete</td>\n",
       "      <td>Teemu Pukki</td>\n",
       "      <td>True</td>\n",
       "    </tr>\n",
       "  </tbody>\n",
       "</table>\n",
       "</div>"
      ],
      "text/plain": [
       "     teammate  actor            location_x  \\\n",
       "1705     True  False  [83.92959, 10.46831]   \n",
       "1706     True  False  [87.65039, 17.39273]   \n",
       "1707    False  False   [88.3027, 6.261185]   \n",
       "1708    False  False  [89.11674, 13.76878]   \n",
       "1709     True  False   [89.41762, 2.43725]   \n",
       "\n",
       "                                        id                player  \\\n",
       "1705  be4fe0c8-657b-44e5-aaeb-6f40aa244c23  Daniel O\"Shaughnessy   \n",
       "1706  be4fe0c8-657b-44e5-aaeb-6f40aa244c23  Daniel O\"Shaughnessy   \n",
       "1707  be4fe0c8-657b-44e5-aaeb-6f40aa244c23  Daniel O\"Shaughnessy   \n",
       "1708  be4fe0c8-657b-44e5-aaeb-6f40aa244c23  Daniel O\"Shaughnessy   \n",
       "1709  be4fe0c8-657b-44e5-aaeb-6f40aa244c23  Daniel O\"Shaughnessy   \n",
       "\n",
       "              position     team  type     timestamp pass_end_location  \\\n",
       "1705  Left Center Back  Finland  Pass  00:02:23.674     [104.1, 30.2]   \n",
       "1706  Left Center Back  Finland  Pass  00:02:23.674     [104.1, 30.2]   \n",
       "1707  Left Center Back  Finland  Pass  00:02:23.674     [104.1, 30.2]   \n",
       "1708  Left Center Back  Finland  Pass  00:02:23.674     [104.1, 30.2]   \n",
       "1709  Left Center Back  Finland  Pass  00:02:23.674     [104.1, 30.2]   \n",
       "\n",
       "      pass_length pass_height pass_outcome pass_recipient pass_cross  \n",
       "1705    27.434467   High Pass   Incomplete    Teemu Pukki       True  \n",
       "1706    27.434467   High Pass   Incomplete    Teemu Pukki       True  \n",
       "1707    27.434467   High Pass   Incomplete    Teemu Pukki       True  \n",
       "1708    27.434467   High Pass   Incomplete    Teemu Pukki       True  \n",
       "1709    27.434467   High Pass   Incomplete    Teemu Pukki       True  "
      ]
     },
     "execution_count": 7,
     "metadata": {},
     "output_type": "execute_result"
    }
   ],
   "source": [
    "cross_df.head()"
   ]
  },
  {
   "cell_type": "code",
   "execution_count": 66,
   "metadata": {},
   "outputs": [
    {
     "data": {
      "text/html": [
       "<div>\n",
       "<style scoped>\n",
       "    .dataframe tbody tr th:only-of-type {\n",
       "        vertical-align: middle;\n",
       "    }\n",
       "\n",
       "    .dataframe tbody tr th {\n",
       "        vertical-align: top;\n",
       "    }\n",
       "\n",
       "    .dataframe thead th {\n",
       "        text-align: right;\n",
       "    }\n",
       "</style>\n",
       "<table border=\"1\" class=\"dataframe\">\n",
       "  <thead>\n",
       "    <tr style=\"text-align: right;\">\n",
       "      <th></th>\n",
       "      <th>location</th>\n",
       "      <th>pass_end_location</th>\n",
       "      <th>pass_length</th>\n",
       "      <th>pass_height</th>\n",
       "      <th>freeze_frame</th>\n",
       "      <th>outcome</th>\n",
       "    </tr>\n",
       "  </thead>\n",
       "  <tbody>\n",
       "    <tr>\n",
       "      <th>0</th>\n",
       "      <td>[89.84301, 4.3097]</td>\n",
       "      <td>[104.1, 30.2]</td>\n",
       "      <td>27.434467</td>\n",
       "      <td>High Pass</td>\n",
       "      <td>[{'location': [83.92959, 10.46831], 'player': ...</td>\n",
       "      <td>Incomplete</td>\n",
       "    </tr>\n",
       "    <tr>\n",
       "      <th>1</th>\n",
       "      <td>[101.844124, 68.46735]</td>\n",
       "      <td>[110.8, 42.9]</td>\n",
       "      <td>30.696090</td>\n",
       "      <td>High Pass</td>\n",
       "      <td>[{'location': [66.642944, 18.947556], 'player'...</td>\n",
       "      <td>Pass Offside</td>\n",
       "    </tr>\n",
       "    <tr>\n",
       "      <th>2</th>\n",
       "      <td>[84.493904, 72.657875]</td>\n",
       "      <td>[104.5, 41.8]</td>\n",
       "      <td>36.170708</td>\n",
       "      <td>High Pass</td>\n",
       "      <td>[{'location': [75.08397, 31.858883], 'player':...</td>\n",
       "      <td>Incomplete</td>\n",
       "    </tr>\n",
       "    <tr>\n",
       "      <th>3</th>\n",
       "      <td>[89.92356, 68.6189]</td>\n",
       "      <td>[110.7, 36.0]</td>\n",
       "      <td>37.438618</td>\n",
       "      <td>High Pass</td>\n",
       "      <td>[{'location': [71.402954, 54.103832], 'player'...</td>\n",
       "      <td>NaN</td>\n",
       "    </tr>\n",
       "    <tr>\n",
       "      <th>4</th>\n",
       "      <td>[101.89212, 17.499557]</td>\n",
       "      <td>[110.7, 32.0]</td>\n",
       "      <td>17.266151</td>\n",
       "      <td>Low Pass</td>\n",
       "      <td>[{'location': [79.84635, 49.374546], 'player':...</td>\n",
       "      <td>NaN</td>\n",
       "    </tr>\n",
       "  </tbody>\n",
       "</table>\n",
       "</div>"
      ],
      "text/plain": [
       "                 location pass_end_location  pass_length pass_height  \\\n",
       "0      [89.84301, 4.3097]     [104.1, 30.2]    27.434467   High Pass   \n",
       "1  [101.844124, 68.46735]     [110.8, 42.9]    30.696090   High Pass   \n",
       "2  [84.493904, 72.657875]     [104.5, 41.8]    36.170708   High Pass   \n",
       "3     [89.92356, 68.6189]     [110.7, 36.0]    37.438618   High Pass   \n",
       "4  [101.89212, 17.499557]     [110.7, 32.0]    17.266151    Low Pass   \n",
       "\n",
       "                                        freeze_frame       outcome  \n",
       "0  [{'location': [83.92959, 10.46831], 'player': ...    Incomplete  \n",
       "1  [{'location': [66.642944, 18.947556], 'player'...  Pass Offside  \n",
       "2  [{'location': [75.08397, 31.858883], 'player':...    Incomplete  \n",
       "3  [{'location': [71.402954, 54.103832], 'player'...           NaN  \n",
       "4  [{'location': [79.84635, 49.374546], 'player':...           NaN  "
      ]
     },
     "execution_count": 66,
     "metadata": {},
     "output_type": "execute_result"
    }
   ],
   "source": [
    "data_freeze_frame = pd.DataFrame()\n",
    "outcomes = []\n",
    "locations = []\n",
    "end_locations = []\n",
    "lengths = []\n",
    "heights = []\n",
    "freeze_frames=  []\n",
    "\n",
    "for i in cross_df.id.unique():\n",
    "    df = cross_df[cross_df['id'] == i]\n",
    "    \n",
    "    frame = []\n",
    "    for id,row in df.iterrows():\n",
    "        if row.actor == True:\n",
    "            outcomes.append(row.pass_outcome)\n",
    "            locations.append(row.location_x)\n",
    "            end_locations.append(row.pass_end_location)\n",
    "            lengths.append(row.pass_length)\n",
    "            heights.append(row.pass_height)\n",
    "        else:\n",
    "            freeze_frame = {}\n",
    "            freeze_frame['location'] = row.location_x\n",
    "            freeze_frame['player'] = {'name': row.player}\n",
    "            freeze_frame['position'] = {'name': row.position}\n",
    "            freeze_frame['teammate'] = row.teammate\n",
    "            frame.append(freeze_frame)\n",
    "    freeze_frames.append(frame)\n",
    "        \n",
    "data_freeze_frame['location'] = locations\n",
    "data_freeze_frame['pass_end_location'] = end_locations\n",
    "data_freeze_frame['pass_length'] = lengths\n",
    "data_freeze_frame['pass_height'] = heights\n",
    "data_freeze_frame['freeze_frame'] = freeze_frames\n",
    "data_freeze_frame['outcome'] = outcomes\n",
    "data_freeze_frame.head()"
   ]
  },
  {
   "cell_type": "code",
   "execution_count": 5,
   "metadata": {},
   "outputs": [],
   "source": [
    "# def encode_players(df):\n",
    "#     coding = []\n",
    "#     for id, row in df.iterrows():\n",
    "#         if row.teammate == True and row.actor == True:\n",
    "#             coding.append('A')\n",
    "#         elif row.teammate == False:\n",
    "#             coding.append('O')\n",
    "#         elif row.teammate == True and row.actor == False:\n",
    "#             coding.append('TM')\n",
    "#         else:\n",
    "#             coding.append('X')\n",
    "\n",
    "#     df['mapping'] = coding\n",
    "#     df = df[df['mapping'] != 'X']\n",
    "    \n",
    "#     return df"
   ]
  },
  {
   "cell_type": "code",
   "execution_count": 67,
   "metadata": {},
   "outputs": [],
   "source": [
    "# cross_df = encode_players(cross_df)\n",
    "\n",
    "data_freeze_frame[['loc_x', 'loc_y']] = data_freeze_frame['location'].apply(pd.Series)\n",
    "data_freeze_frame[['cross_end_loc_x', 'cross_end_loc_y']] = data_freeze_frame['pass_end_location'].apply(pd.Series)\n",
    "data_freeze_frame = data_freeze_frame[['loc_x', 'loc_y', 'cross_end_loc_x', 'cross_end_loc_y', 'pass_length', 'pass_height', 'freeze_frame', 'outcome']]"
   ]
  },
  {
   "cell_type": "code",
   "execution_count": 68,
   "metadata": {},
   "outputs": [
    {
     "data": {
      "text/html": [
       "<div>\n",
       "<style scoped>\n",
       "    .dataframe tbody tr th:only-of-type {\n",
       "        vertical-align: middle;\n",
       "    }\n",
       "\n",
       "    .dataframe tbody tr th {\n",
       "        vertical-align: top;\n",
       "    }\n",
       "\n",
       "    .dataframe thead th {\n",
       "        text-align: right;\n",
       "    }\n",
       "</style>\n",
       "<table border=\"1\" class=\"dataframe\">\n",
       "  <thead>\n",
       "    <tr style=\"text-align: right;\">\n",
       "      <th></th>\n",
       "      <th>loc_x</th>\n",
       "      <th>loc_y</th>\n",
       "      <th>cross_end_loc_x</th>\n",
       "      <th>cross_end_loc_y</th>\n",
       "      <th>pass_length</th>\n",
       "      <th>pass_height</th>\n",
       "      <th>freeze_frame</th>\n",
       "      <th>outcome</th>\n",
       "    </tr>\n",
       "  </thead>\n",
       "  <tbody>\n",
       "    <tr>\n",
       "      <th>0</th>\n",
       "      <td>89.843010</td>\n",
       "      <td>4.309700</td>\n",
       "      <td>104.1</td>\n",
       "      <td>30.2</td>\n",
       "      <td>27.434467</td>\n",
       "      <td>High Pass</td>\n",
       "      <td>[{'location': [83.92959, 10.46831], 'player': ...</td>\n",
       "      <td>Incomplete</td>\n",
       "    </tr>\n",
       "    <tr>\n",
       "      <th>1</th>\n",
       "      <td>101.844124</td>\n",
       "      <td>68.467350</td>\n",
       "      <td>110.8</td>\n",
       "      <td>42.9</td>\n",
       "      <td>30.696090</td>\n",
       "      <td>High Pass</td>\n",
       "      <td>[{'location': [66.642944, 18.947556], 'player'...</td>\n",
       "      <td>Pass Offside</td>\n",
       "    </tr>\n",
       "    <tr>\n",
       "      <th>2</th>\n",
       "      <td>84.493904</td>\n",
       "      <td>72.657875</td>\n",
       "      <td>104.5</td>\n",
       "      <td>41.8</td>\n",
       "      <td>36.170708</td>\n",
       "      <td>High Pass</td>\n",
       "      <td>[{'location': [75.08397, 31.858883], 'player':...</td>\n",
       "      <td>Incomplete</td>\n",
       "    </tr>\n",
       "    <tr>\n",
       "      <th>3</th>\n",
       "      <td>89.923560</td>\n",
       "      <td>68.618900</td>\n",
       "      <td>110.7</td>\n",
       "      <td>36.0</td>\n",
       "      <td>37.438618</td>\n",
       "      <td>High Pass</td>\n",
       "      <td>[{'location': [71.402954, 54.103832], 'player'...</td>\n",
       "      <td>NaN</td>\n",
       "    </tr>\n",
       "    <tr>\n",
       "      <th>4</th>\n",
       "      <td>101.892120</td>\n",
       "      <td>17.499557</td>\n",
       "      <td>110.7</td>\n",
       "      <td>32.0</td>\n",
       "      <td>17.266151</td>\n",
       "      <td>Low Pass</td>\n",
       "      <td>[{'location': [79.84635, 49.374546], 'player':...</td>\n",
       "      <td>NaN</td>\n",
       "    </tr>\n",
       "  </tbody>\n",
       "</table>\n",
       "</div>"
      ],
      "text/plain": [
       "        loc_x      loc_y  cross_end_loc_x  cross_end_loc_y  pass_length  \\\n",
       "0   89.843010   4.309700            104.1             30.2    27.434467   \n",
       "1  101.844124  68.467350            110.8             42.9    30.696090   \n",
       "2   84.493904  72.657875            104.5             41.8    36.170708   \n",
       "3   89.923560  68.618900            110.7             36.0    37.438618   \n",
       "4  101.892120  17.499557            110.7             32.0    17.266151   \n",
       "\n",
       "  pass_height                                       freeze_frame       outcome  \n",
       "0   High Pass  [{'location': [83.92959, 10.46831], 'player': ...    Incomplete  \n",
       "1   High Pass  [{'location': [66.642944, 18.947556], 'player'...  Pass Offside  \n",
       "2   High Pass  [{'location': [75.08397, 31.858883], 'player':...    Incomplete  \n",
       "3   High Pass  [{'location': [71.402954, 54.103832], 'player'...           NaN  \n",
       "4    Low Pass  [{'location': [79.84635, 49.374546], 'player':...           NaN  "
      ]
     },
     "execution_count": 68,
     "metadata": {},
     "output_type": "execute_result"
    }
   ],
   "source": [
    "data_freeze_frame.head()"
   ]
  },
  {
   "cell_type": "markdown",
   "metadata": {},
   "source": [
    "# find transition probabilities "
   ]
  },
  {
   "cell_type": "code",
   "execution_count": 33,
   "metadata": {},
   "outputs": [],
   "source": [
    "# cross_prob_df = cross_df[cross_df['mapping'] == 'A']"
   ]
  },
  {
   "cell_type": "markdown",
   "metadata": {},
   "source": [
    "for simplicity, just make 3 sections in box, top of box and far side (5 sections total)"
   ]
  },
  {
   "cell_type": "code",
   "execution_count": 69,
   "metadata": {},
   "outputs": [],
   "source": [
    "def section(x,y):\n",
    "    if (x <= 60 and y <= 18) or (x >= 60 and y >= 62):\n",
    "        return 'RF'\n",
    "    elif (x <= 60 and y >= 62) or (x >= 60 and y <= 18):\n",
    "        return 'LF'\n",
    "    elif (x <= 18 and 18 <= y <= 30) or (x >= 102 and 50 <= y <= 62):\n",
    "        return 'RB'\n",
    "    elif (x <= 18 and 30 <= y <= 50) or (x >= 102 and 30 <= y <= 50):\n",
    "        return 'MB'\n",
    "    elif (x <= 18 and 50 <= y <= 62) or (x >= 102 and 18 <= y <= 30):\n",
    "        return 'LB'\n",
    "    elif (18 <= x <= 60 and 18 <= y <= 62) or (60 <= x <= 102 and 18 <= y <= 62):\n",
    "        return 'TOB'"
   ]
  },
  {
   "cell_type": "code",
   "execution_count": 70,
   "metadata": {},
   "outputs": [],
   "source": [
    "mapping = {'RF': 0,\n",
    "          'LF': 1,\n",
    "          'RB': 2,\n",
    "          'MB': 3,\n",
    "          'LB': 4,\n",
    "          'TOB': 5}"
   ]
  },
  {
   "cell_type": "code",
   "execution_count": 71,
   "metadata": {},
   "outputs": [],
   "source": [
    "counts = [[0]*6, [0]*6, [0]*6, [0]*6, [0]*6, [0]*6]"
   ]
  },
  {
   "cell_type": "code",
   "execution_count": 72,
   "metadata": {},
   "outputs": [],
   "source": [
    "for id, row in data_freeze_frame.iterrows():\n",
    "    # cross section \n",
    "    cross_section = section(row.loc_x, row.loc_y)\n",
    "\n",
    "    # end section \n",
    "    end_section = section(row.cross_end_loc_x, row.cross_end_loc_y)\n",
    "\n",
    "    i = mapping[cross_section]\n",
    "    j = mapping[end_section]\n",
    "    counts[i][j] = counts[i][j] + 1\n",
    "    \n",
    "# del counts[4:6]"
   ]
  },
  {
   "cell_type": "code",
   "execution_count": 73,
   "metadata": {},
   "outputs": [
    {
     "data": {
      "text/plain": [
       "[[0, 25, 2, 318, 34, 2],\n",
       " [26, 0, 38, 264, 0, 3],\n",
       " [0, 6, 2, 107, 5, 1],\n",
       " [0, 0, 0, 1, 0, 0],\n",
       " [4, 0, 6, 113, 0, 3],\n",
       " [3, 1, 4, 42, 6, 0]]"
      ]
     },
     "execution_count": 73,
     "metadata": {},
     "output_type": "execute_result"
    }
   ],
   "source": [
    "counts"
   ]
  },
  {
   "cell_type": "code",
   "execution_count": 74,
   "metadata": {},
   "outputs": [
    {
     "data": {
      "text/plain": [
       "[[0.0, 0.0656, 0.0052, 0.8346, 0.0892, 0.0052],\n",
       " [0.0785, 0.0, 0.1148, 0.7976, 0.0, 0.0091],\n",
       " [0.0, 0.0496, 0.0165, 0.8843, 0.0413, 0.0083],\n",
       " [0.0, 0.0, 0.0, 1.0, 0.0, 0.0],\n",
       " [0.0317, 0.0, 0.0476, 0.8968, 0.0, 0.0238],\n",
       " [0.0536, 0.0179, 0.0714, 0.75, 0.1071, 0.0]]"
      ]
     },
     "execution_count": 74,
     "metadata": {},
     "output_type": "execute_result"
    }
   ],
   "source": [
    "# transition matrix\n",
    "p = [[0]*6, [0]*6, [0]*6, [0]*6, [0]*6, [0]*6]\n",
    "\n",
    "for i in range(len(counts)):\n",
    "    for j in range(len(counts)):\n",
    "        p[i][j] = round(counts[i][j] / sum(counts[i]),4)\n",
    "\n",
    "p"
   ]
  },
  {
   "cell_type": "code",
   "execution_count": 40,
   "metadata": {},
   "outputs": [],
   "source": [
    "# probability of n opponents in dest zone \n",
    "# Prob that a cross has been successful with n opponenets in that zone "
   ]
  },
  {
   "cell_type": "code",
   "execution_count": 41,
   "metadata": {},
   "outputs": [],
   "source": [
    "# crosses are often to space in hopes that a teammate will move to the ball \n",
    "# find ratio or fraction of players in the zone wrt to what team they are on "
   ]
  },
  {
   "cell_type": "code",
   "execution_count": 42,
   "metadata": {},
   "outputs": [],
   "source": [
    "# prob that a teammate will get it is #teammates/#players_total  in that section"
   ]
  },
  {
   "cell_type": "code",
   "execution_count": 75,
   "metadata": {},
   "outputs": [
    {
     "data": {
      "text/html": [
       "<div>\n",
       "<style scoped>\n",
       "    .dataframe tbody tr th:only-of-type {\n",
       "        vertical-align: middle;\n",
       "    }\n",
       "\n",
       "    .dataframe tbody tr th {\n",
       "        vertical-align: top;\n",
       "    }\n",
       "\n",
       "    .dataframe thead th {\n",
       "        text-align: right;\n",
       "    }\n",
       "</style>\n",
       "<table border=\"1\" class=\"dataframe\">\n",
       "  <thead>\n",
       "    <tr style=\"text-align: right;\">\n",
       "      <th></th>\n",
       "      <th>loc_x</th>\n",
       "      <th>loc_y</th>\n",
       "      <th>cross_end_loc_x</th>\n",
       "      <th>cross_end_loc_y</th>\n",
       "      <th>pass_length</th>\n",
       "      <th>pass_height</th>\n",
       "      <th>freeze_frame</th>\n",
       "      <th>outcome</th>\n",
       "    </tr>\n",
       "  </thead>\n",
       "  <tbody>\n",
       "    <tr>\n",
       "      <th>0</th>\n",
       "      <td>89.843010</td>\n",
       "      <td>4.309700</td>\n",
       "      <td>104.1</td>\n",
       "      <td>30.2</td>\n",
       "      <td>27.434467</td>\n",
       "      <td>High Pass</td>\n",
       "      <td>[{'location': [83.92959, 10.46831], 'player': ...</td>\n",
       "      <td>Incomplete</td>\n",
       "    </tr>\n",
       "    <tr>\n",
       "      <th>1</th>\n",
       "      <td>101.844124</td>\n",
       "      <td>68.467350</td>\n",
       "      <td>110.8</td>\n",
       "      <td>42.9</td>\n",
       "      <td>30.696090</td>\n",
       "      <td>High Pass</td>\n",
       "      <td>[{'location': [66.642944, 18.947556], 'player'...</td>\n",
       "      <td>Pass Offside</td>\n",
       "    </tr>\n",
       "    <tr>\n",
       "      <th>2</th>\n",
       "      <td>84.493904</td>\n",
       "      <td>72.657875</td>\n",
       "      <td>104.5</td>\n",
       "      <td>41.8</td>\n",
       "      <td>36.170708</td>\n",
       "      <td>High Pass</td>\n",
       "      <td>[{'location': [75.08397, 31.858883], 'player':...</td>\n",
       "      <td>Incomplete</td>\n",
       "    </tr>\n",
       "    <tr>\n",
       "      <th>3</th>\n",
       "      <td>89.923560</td>\n",
       "      <td>68.618900</td>\n",
       "      <td>110.7</td>\n",
       "      <td>36.0</td>\n",
       "      <td>37.438618</td>\n",
       "      <td>High Pass</td>\n",
       "      <td>[{'location': [71.402954, 54.103832], 'player'...</td>\n",
       "      <td>NaN</td>\n",
       "    </tr>\n",
       "    <tr>\n",
       "      <th>4</th>\n",
       "      <td>101.892120</td>\n",
       "      <td>17.499557</td>\n",
       "      <td>110.7</td>\n",
       "      <td>32.0</td>\n",
       "      <td>17.266151</td>\n",
       "      <td>Low Pass</td>\n",
       "      <td>[{'location': [79.84635, 49.374546], 'player':...</td>\n",
       "      <td>NaN</td>\n",
       "    </tr>\n",
       "  </tbody>\n",
       "</table>\n",
       "</div>"
      ],
      "text/plain": [
       "        loc_x      loc_y  cross_end_loc_x  cross_end_loc_y  pass_length  \\\n",
       "0   89.843010   4.309700            104.1             30.2    27.434467   \n",
       "1  101.844124  68.467350            110.8             42.9    30.696090   \n",
       "2   84.493904  72.657875            104.5             41.8    36.170708   \n",
       "3   89.923560  68.618900            110.7             36.0    37.438618   \n",
       "4  101.892120  17.499557            110.7             32.0    17.266151   \n",
       "\n",
       "  pass_height                                       freeze_frame       outcome  \n",
       "0   High Pass  [{'location': [83.92959, 10.46831], 'player': ...    Incomplete  \n",
       "1   High Pass  [{'location': [66.642944, 18.947556], 'player'...  Pass Offside  \n",
       "2   High Pass  [{'location': [75.08397, 31.858883], 'player':...    Incomplete  \n",
       "3   High Pass  [{'location': [71.402954, 54.103832], 'player'...           NaN  \n",
       "4    Low Pass  [{'location': [79.84635, 49.374546], 'player':...           NaN  "
      ]
     },
     "execution_count": 75,
     "metadata": {},
     "output_type": "execute_result"
    }
   ],
   "source": [
    "data_freeze_frame.head()"
   ]
  },
  {
   "cell_type": "code",
   "execution_count": 44,
   "metadata": {},
   "outputs": [],
   "source": [
    "# sections = []\n",
    "# for id, row in cross_df.iterrows(): sections.append(section(row.loc_x, row.loc_y))\n",
    "# new_cross_df = cross_df\n",
    "# new_cross_df['section'] = sections\n",
    "# new_cross_df"
   ]
  },
  {
   "cell_type": "code",
   "execution_count": 76,
   "metadata": {},
   "outputs": [],
   "source": [
    "pass_height_mapping = {'High Pass': 0,\n",
    "                'Ground Pass': 1,\n",
    "                'Low Pass': 2 }"
   ]
  },
  {
   "cell_type": "code",
   "execution_count": 77,
   "metadata": {},
   "outputs": [],
   "source": [
    "outcomes = []\n",
    "origin_sections = []\n",
    "destination_sections = []\n",
    "opp_in_dest = []\n",
    "tm_in_dest = []\n",
    "pressures = []\n",
    "pass_heights = []\n",
    "\n",
    "for id, row in data_freeze_frame.iterrows():\n",
    "    if row.outcome in ['Incomplete', 'Out']: outcomes.append(0)\n",
    "    else: outcomes.append(1)\n",
    "       \n",
    "    cross_x = row.loc_x\n",
    "    cross_y = row.loc_y\n",
    "    \n",
    "    destination = section(row.cross_end_loc_x, row.cross_end_loc_y)\n",
    "\n",
    "    origin_sections.append(mapping[section(cross_x, cross_y)])\n",
    "    destination_sections.append(mapping[destination])\n",
    "    pass_heights.append(pass_height_mapping[row.pass_height])\n",
    "    \n",
    "    \n",
    "    \n",
    "    opp_count = 0\n",
    "    tm_count = 0\n",
    "    pressure = 0\n",
    "    \n",
    "    for player in row.freeze_frame:\n",
    "        player_x = player['location'][0]\n",
    "        player_y = player['location'][1]\n",
    "        \n",
    "        #count how many opponents are within 3 yards of player making the cross\n",
    "        if ((cross_x - player_x)**2 + (cross_y - player_y)**2) <= 3**2 and (player['teammate'] == False) and (player['position']['name'] != 'Goalkeeper'):\n",
    "            pressure += 1\n",
    "        \n",
    "        if player['teammate'] == True:\n",
    "            if section(player_x, player_y) == destination:\n",
    "                tm_count+=1\n",
    "        else:\n",
    "            if section(player_x, player_y) == destination:\n",
    "                opp_count+=1\n",
    "                \n",
    "    opp_in_dest.append(opp_count)\n",
    "    tm_in_dest.append(tm_count)\n",
    "    pressures.append(pressure)\n",
    "            \n",
    "    \n",
    "data_freeze_frame['outcome'] = outcomes\n",
    "data_freeze_frame['cross_origin'] = origin_sections\n",
    "data_freeze_frame['cross_dest'] = destination_sections\n",
    "data_freeze_frame['zone_pressure'] = opp_in_dest # num opp in dest zone\n",
    "data_freeze_frame['zone_support'] = tm_in_dest # num teammates in dest zone \n",
    "data_freeze_frame['cross_pressure'] = pressures # num of opp on crosser\n",
    "data_freeze_frame['cross_height'] = pass_heights\n"
   ]
  },
  {
   "cell_type": "code",
   "execution_count": 98,
   "metadata": {},
   "outputs": [
    {
     "data": {
      "text/html": [
       "<div>\n",
       "<style scoped>\n",
       "    .dataframe tbody tr th:only-of-type {\n",
       "        vertical-align: middle;\n",
       "    }\n",
       "\n",
       "    .dataframe tbody tr th {\n",
       "        vertical-align: top;\n",
       "    }\n",
       "\n",
       "    .dataframe thead th {\n",
       "        text-align: right;\n",
       "    }\n",
       "</style>\n",
       "<table border=\"1\" class=\"dataframe\">\n",
       "  <thead>\n",
       "    <tr style=\"text-align: right;\">\n",
       "      <th></th>\n",
       "      <th>loc_x</th>\n",
       "      <th>loc_y</th>\n",
       "      <th>cross_dest</th>\n",
       "      <th>zone_pressure</th>\n",
       "      <th>zone_support</th>\n",
       "      <th>pass_length</th>\n",
       "      <th>cross_height</th>\n",
       "      <th>cross_pressure</th>\n",
       "      <th>outcome</th>\n",
       "    </tr>\n",
       "  </thead>\n",
       "  <tbody>\n",
       "    <tr>\n",
       "      <th>0</th>\n",
       "      <td>89.843010</td>\n",
       "      <td>4.309700</td>\n",
       "      <td>3</td>\n",
       "      <td>1</td>\n",
       "      <td>0</td>\n",
       "      <td>27.434467</td>\n",
       "      <td>0</td>\n",
       "      <td>2</td>\n",
       "      <td>0</td>\n",
       "    </tr>\n",
       "    <tr>\n",
       "      <th>1</th>\n",
       "      <td>101.844124</td>\n",
       "      <td>68.467350</td>\n",
       "      <td>3</td>\n",
       "      <td>3</td>\n",
       "      <td>1</td>\n",
       "      <td>30.696090</td>\n",
       "      <td>0</td>\n",
       "      <td>0</td>\n",
       "      <td>1</td>\n",
       "    </tr>\n",
       "    <tr>\n",
       "      <th>2</th>\n",
       "      <td>84.493904</td>\n",
       "      <td>72.657875</td>\n",
       "      <td>3</td>\n",
       "      <td>3</td>\n",
       "      <td>1</td>\n",
       "      <td>36.170708</td>\n",
       "      <td>0</td>\n",
       "      <td>0</td>\n",
       "      <td>0</td>\n",
       "    </tr>\n",
       "    <tr>\n",
       "      <th>3</th>\n",
       "      <td>89.923560</td>\n",
       "      <td>68.618900</td>\n",
       "      <td>3</td>\n",
       "      <td>4</td>\n",
       "      <td>2</td>\n",
       "      <td>37.438618</td>\n",
       "      <td>0</td>\n",
       "      <td>0</td>\n",
       "      <td>1</td>\n",
       "    </tr>\n",
       "    <tr>\n",
       "      <th>4</th>\n",
       "      <td>101.892120</td>\n",
       "      <td>17.499557</td>\n",
       "      <td>3</td>\n",
       "      <td>5</td>\n",
       "      <td>3</td>\n",
       "      <td>17.266151</td>\n",
       "      <td>2</td>\n",
       "      <td>0</td>\n",
       "      <td>1</td>\n",
       "    </tr>\n",
       "  </tbody>\n",
       "</table>\n",
       "</div>"
      ],
      "text/plain": [
       "        loc_x      loc_y  cross_dest  zone_pressure  zone_support  \\\n",
       "0   89.843010   4.309700           3              1             0   \n",
       "1  101.844124  68.467350           3              3             1   \n",
       "2   84.493904  72.657875           3              3             1   \n",
       "3   89.923560  68.618900           3              4             2   \n",
       "4  101.892120  17.499557           3              5             3   \n",
       "\n",
       "   pass_length  cross_height  cross_pressure  outcome  \n",
       "0    27.434467             0               2        0  \n",
       "1    30.696090             0               0        1  \n",
       "2    36.170708             0               0        0  \n",
       "3    37.438618             0               0        1  \n",
       "4    17.266151             2               0        1  "
      ]
     },
     "execution_count": 98,
     "metadata": {},
     "output_type": "execute_result"
    }
   ],
   "source": [
    "data = data_freeze_frame[['loc_x', 'loc_y', 'cross_dest', 'zone_pressure', 'zone_support', 'pass_length', 'cross_height', 'cross_pressure', 'outcome']]\n",
    "\n",
    "data.head()"
   ]
  },
  {
   "cell_type": "code",
   "execution_count": 321,
   "metadata": {},
   "outputs": [],
   "source": [
    "from sklearn.model_selection import train_test_split\n",
    "from sklearn import preprocessing\n",
    "from sklearn.metrics import precision_score, recall_score, accuracy_score\n",
    "\n",
    "from sklearn.linear_model import LogisticRegression, LogisticRegressionCV\n",
    "import seaborn as sns\n",
    "from sklearn.metrics import confusion_matrix\n",
    "\n",
    "X = data[['loc_y', 'cross_dest', 'zone_pressure', 'zone_support','cross_pressure']]\n",
    "y = data['outcome']\n",
    "\n",
    "train_X, test_X, train_y, test_y = train_test_split(X,y,test_size=0.2,random_state=45,stratify=y)\n"
   ]
  },
  {
   "cell_type": "code",
   "execution_count": 322,
   "metadata": {},
   "outputs": [
    {
     "name": "stdout",
     "output_type": "stream",
     "text": [
      "Training target statistics: Counter({1: 531, 0: 531})\n"
     ]
    }
   ],
   "source": [
    "from imblearn.over_sampling import RandomOverSampler\n",
    "from collections import Counter\n",
    "\n",
    "over_sampler = RandomOverSampler(random_state=42)\n",
    "X_res, y_res = over_sampler.fit_resample(train_X, train_y)\n",
    "\n",
    "print(f\"Training target statistics: {Counter(y_res)}\")\n",
    "\n"
   ]
  },
  {
   "cell_type": "code",
   "execution_count": 323,
   "metadata": {},
   "outputs": [
    {
     "name": "stdout",
     "output_type": "stream",
     "text": [
      "Accuracy: 0.6225490196078431\n"
     ]
    }
   ],
   "source": [
    "model = LogisticRegression()\n",
    "model.fit(X_res, y_res)\n",
    "y_pred = model.predict(test_X)\n",
    "accuracy = accuracy_score(test_y, y_pred)\n",
    "print(f'Accuracy: {accuracy}')\n"
   ]
  },
  {
   "cell_type": "code",
   "execution_count": 324,
   "metadata": {},
   "outputs": [
    {
     "name": "stdout",
     "output_type": "stream",
     "text": [
      "-6.161075185423454e-05\n",
      "-0.13864884262261676\n",
      "-0.1412220171495498\n",
      "0.19667478367257762\n",
      "-0.02627764046468265\n"
     ]
    }
   ],
   "source": [
    "for cof in model.coef_[0]:\n",
    "    print(cof)"
   ]
  },
  {
   "cell_type": "code",
   "execution_count": 325,
   "metadata": {},
   "outputs": [
    {
     "data": {
      "text/plain": [
       "<AxesSubplot:>"
      ]
     },
     "execution_count": 325,
     "metadata": {},
     "output_type": "execute_result"
    },
    {
     "data": {
      "image/png": "[encoded data removed]",
      "text/plain": [
       "<Figure size 432x288 with 2 Axes>"
      ]
     },
     "metadata": {
      "needs_background": "light"
     },
     "output_type": "display_data"
    }
   ],
   "source": [
    "cm=confusion_matrix(test_y, y_pred)\n",
    "sns.heatmap(cm,cmap='BuPu',annot=True,fmt='d', xticklabels=['failed', 'success'], yticklabels=['failed', 'success'])"
   ]
  },
  {
   "cell_type": "code",
   "execution_count": 326,
   "metadata": {},
   "outputs": [
    {
     "name": "stdout",
     "output_type": "stream",
     "text": [
      "******** LR **********\n",
      "Precision Score:  0.4567901234567901\n",
      "Recall Score:  0.5285714285714286\n",
      "Accuracy Score:  0.6225490196078431\n",
      "********************************************\n"
     ]
    }
   ],
   "source": [
    "print('******** LR **********')\n",
    "print('Precision Score: ',precision_score(test_y,y_pred))\n",
    "print('Recall Score: ',recall_score(test_y,y_pred))\n",
    "print('Accuracy Score: ',accuracy_score(test_y,y_pred))\n",
    "print('********************************************')"
   ]
  },
  {
   "cell_type": "code",
   "execution_count": 348,
   "metadata": {},
   "outputs": [
    {
     "name": "stdout",
     "output_type": "stream",
     "text": [
      "******** LR **********\n",
      "Precision Score:  0.44047619047619047\n",
      "Recall Score:  0.5285714285714286\n",
      "Accuracy Score:  0.6078431372549019\n",
      "********************************************\n"
     ]
    }
   ],
   "source": [
    "\n",
    "modelCV = LogisticRegressionCV(Cs=2, fit_intercept=True, scoring=None, solver='sag', tol=0.0001, \n",
    "                                          max_iter=100, class_weight=None)\n",
    "\n",
    "modelCV.fit(X_res, y_res)\n",
    "y_pred = modelCV.predict(test_X)\n",
    "accuracy = accuracy_score(test_y, y_pred)\n",
    "print('******** LR **********')\n",
    "print('Precision Score: ',precision_score(test_y,y_pred))\n",
    "print('Recall Score: ',recall_score(test_y,y_pred))\n",
    "print('Accuracy Score: ',accuracy_score(test_y,y_pred))\n",
    "print('********************************************')"
   ]
  },
  {
   "cell_type": "code",
   "execution_count": 350,
   "metadata": {},
   "outputs": [
    {
     "data": {
      "text/plain": [
       "Counter({0: 281, 1: 281})"
      ]
     },
     "execution_count": 350,
     "metadata": {},
     "output_type": "execute_result"
    }
   ],
   "source": [
    "from imblearn.under_sampling import CondensedNearestNeighbour\n",
    "from imblearn.under_sampling import NearMiss\n",
    "undersample = NearMiss()\n",
    "\n",
    "X_under, y_under = undersample.fit_resample(train_X, train_y)\n",
    "Counter(yu)"
   ]
  },
  {
   "cell_type": "code",
   "execution_count": 351,
   "metadata": {},
   "outputs": [
    {
     "name": "stdout",
     "output_type": "stream",
     "text": [
      "******** LR **********\n",
      "Precision Score:  0.4838709677419355\n",
      "Recall Score:  0.6428571428571429\n",
      "Accuracy Score:  0.6421568627450981\n",
      "********************************************\n"
     ]
    }
   ],
   "source": [
    "\n",
    "modelCV = LogisticRegressionCV(Cs=2, fit_intercept=True, scoring=None, solver='sag', tol=0.0001, \n",
    "                                          max_iter=100, class_weight=None)\n",
    "\n",
    "modelCV.fit(X_under, y_under)\n",
    "y_pred = modelCV.predict(test_X)\n",
    "accuracy = accuracy_score(test_y, y_pred)\n",
    "print('******** LR **********')\n",
    "print('Precision Score: ',precision_score(test_y,y_pred))\n",
    "print('Recall Score: ',recall_score(test_y,y_pred))\n",
    "print('Accuracy Score: ',accuracy_score(test_y,y_pred))\n",
    "print('********************************************')"
   ]
  },
  {
   "cell_type": "code",
   "execution_count": 352,
   "metadata": {},
   "outputs": [
    {
     "data": {
      "text/plain": [
       "<AxesSubplot:>"
      ]
     },
     "execution_count": 352,
     "metadata": {},
     "output_type": "execute_result"
    },
    {
     "data": {
      "image/png": "[encoded data removed]",
      "text/plain": [
       "<Figure size 432x288 with 2 Axes>"
      ]
     },
     "metadata": {
      "needs_background": "light"
     },
     "output_type": "display_data"
    }
   ],
   "source": [
    "cm=confusion_matrix(test_y, y_pred)\n",
    "sns.heatmap(cm,cmap='BuPu',annot=True,fmt='d', xticklabels=['failed', 'success'], yticklabels=['failed', 'success'])"
   ]
  },
  {
   "cell_type": "markdown",
   "metadata": {},
   "source": [
    "undersampling is more accurate than oversampling "
   ]
  },
  {
   "cell_type": "code",
   "execution_count": null,
   "metadata": {},
   "outputs": [],
   "source": []
  },
  {
   "cell_type": "code",
   "execution_count": null,
   "metadata": {},
   "outputs": [],
   "source": []
  },
  {
   "cell_type": "code",
   "execution_count": null,
   "metadata": {},
   "outputs": [],
   "source": []
  },
  {
   "cell_type": "code",
   "execution_count": null,
   "metadata": {},
   "outputs": [],
   "source": []
  }
 ],
 "metadata": {
  "kernelspec": {
   "display_name": "Python 3",
   "language": "python",
   "name": "python3"
  },
  "language_info": {
   "codemirror_mode": {
    "name": "ipython",
    "version": 3
   },
   "file_extension": ".py",
   "mimetype": "text/x-python",
   "name": "python",
   "nbconvert_exporter": "python",
   "pygments_lexer": "ipython3",
   "version": "3.8.5"
  }
 },
 "nbformat": 4,
 "nbformat_minor": 4
}
