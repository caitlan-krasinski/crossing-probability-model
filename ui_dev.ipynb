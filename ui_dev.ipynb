{
 "cells": [
  {
   "cell_type": "code",
   "execution_count": 216,
   "metadata": {},
   "outputs": [],
   "source": [
    "from pickle import load\n",
    "import pandas as pd\n",
    "import numpy as np\n",
    "from mplsoccer import Pitch, VerticalPitch\n",
    "from statsbombpy import sb\n",
    "import matplotlib.pyplot as plt\n",
    "from math import dist\n",
    "\n",
    "from sklearn.linear_model import LogisticRegression"
   ]
  },
  {
   "cell_type": "code",
   "execution_count": 179,
   "metadata": {},
   "outputs": [],
   "source": [
    "cross_prob = load(open(\"models/cross_model.pkl\",'rb'))\n",
    "xG = load(open(\"models/xG_historical_probs.pkl\",'rb'))"
   ]
  },
  {
   "cell_type": "code",
   "execution_count": 213,
   "metadata": {},
   "outputs": [],
   "source": [
    "cols = ['teammate', 'actor', 'keeper', 'location_x', 'id',\n",
    "        'player', 'position', 'team', 'type', 'timestamp', \n",
    "        'pass_end_location', 'pass_outcome', 'pass_cross', \n",
    "        'interception_outcome', 'pass_aerial_won', 'visible_area']\n",
    "\n",
    "events = sb.events(match_id=3788763)\n",
    "match_frames = sb.frames(match_id=3788763, fmt='dataframe')\n",
    "\n",
    "# join the events to the frames \n",
    "df = pd.merge(match_frames, events, left_on='id', right_on='id', how='left')\n",
    "\n",
    "# take relevant rows \n",
    "df = df[cols]\n",
    "\n",
    "# filter for crosses only\n",
    "cross_df = df[df['pass_cross'] == True]\n"
   ]
  },
  {
   "cell_type": "code",
   "execution_count": 214,
   "metadata": {},
   "outputs": [
    {
     "data": {
      "text/html": [
       "<div>\n",
       "<style scoped>\n",
       "    .dataframe tbody tr th:only-of-type {\n",
       "        vertical-align: middle;\n",
       "    }\n",
       "\n",
       "    .dataframe tbody tr th {\n",
       "        vertical-align: top;\n",
       "    }\n",
       "\n",
       "    .dataframe thead th {\n",
       "        text-align: right;\n",
       "    }\n",
       "</style>\n",
       "<table border=\"1\" class=\"dataframe\">\n",
       "  <thead>\n",
       "    <tr style=\"text-align: right;\">\n",
       "      <th></th>\n",
       "      <th>teammate</th>\n",
       "      <th>actor</th>\n",
       "      <th>keeper</th>\n",
       "      <th>location_x</th>\n",
       "      <th>id</th>\n",
       "      <th>player</th>\n",
       "      <th>position</th>\n",
       "      <th>team</th>\n",
       "      <th>type</th>\n",
       "      <th>timestamp</th>\n",
       "      <th>pass_end_location</th>\n",
       "      <th>pass_outcome</th>\n",
       "      <th>pass_cross</th>\n",
       "      <th>interception_outcome</th>\n",
       "      <th>pass_aerial_won</th>\n",
       "      <th>visible_area</th>\n",
       "    </tr>\n",
       "  </thead>\n",
       "  <tbody>\n",
       "    <tr>\n",
       "      <th>1603</th>\n",
       "      <td>True</td>\n",
       "      <td>False</td>\n",
       "      <td>False</td>\n",
       "      <td>[98.23187, 34.724323]</td>\n",
       "      <td>dbf6adc4-f7a3-4f1a-8c3a-3df8c0d7c7cf</td>\n",
       "      <td>Roland Sallai</td>\n",
       "      <td>Right Center Forward</td>\n",
       "      <td>Hungary</td>\n",
       "      <td>Pass</td>\n",
       "      <td>00:03:49.188</td>\n",
       "      <td>[111.9, 36.3]</td>\n",
       "      <td>Incomplete</td>\n",
       "      <td>True</td>\n",
       "      <td>NaN</td>\n",
       "      <td>NaN</td>\n",
       "      <td>[120.0, 0.0, 120.0, 47.1696637888298, 103.1029...</td>\n",
       "    </tr>\n",
       "    <tr>\n",
       "      <th>1604</th>\n",
       "      <td>True</td>\n",
       "      <td>False</td>\n",
       "      <td>False</td>\n",
       "      <td>[101.54566, 45.706417]</td>\n",
       "      <td>dbf6adc4-f7a3-4f1a-8c3a-3df8c0d7c7cf</td>\n",
       "      <td>Roland Sallai</td>\n",
       "      <td>Right Center Forward</td>\n",
       "      <td>Hungary</td>\n",
       "      <td>Pass</td>\n",
       "      <td>00:03:49.188</td>\n",
       "      <td>[111.9, 36.3]</td>\n",
       "      <td>Incomplete</td>\n",
       "      <td>True</td>\n",
       "      <td>NaN</td>\n",
       "      <td>NaN</td>\n",
       "      <td>[120.0, 0.0, 120.0, 47.1696637888298, 103.1029...</td>\n",
       "    </tr>\n",
       "    <tr>\n",
       "      <th>1605</th>\n",
       "      <td>False</td>\n",
       "      <td>False</td>\n",
       "      <td>False</td>\n",
       "      <td>[101.82803, 39.473106]</td>\n",
       "      <td>dbf6adc4-f7a3-4f1a-8c3a-3df8c0d7c7cf</td>\n",
       "      <td>Roland Sallai</td>\n",
       "      <td>Right Center Forward</td>\n",
       "      <td>Hungary</td>\n",
       "      <td>Pass</td>\n",
       "      <td>00:03:49.188</td>\n",
       "      <td>[111.9, 36.3]</td>\n",
       "      <td>Incomplete</td>\n",
       "      <td>True</td>\n",
       "      <td>NaN</td>\n",
       "      <td>NaN</td>\n",
       "      <td>[120.0, 0.0, 120.0, 47.1696637888298, 103.1029...</td>\n",
       "    </tr>\n",
       "    <tr>\n",
       "      <th>1606</th>\n",
       "      <td>True</td>\n",
       "      <td>True</td>\n",
       "      <td>False</td>\n",
       "      <td>[105.359116, 9.107845]</td>\n",
       "      <td>dbf6adc4-f7a3-4f1a-8c3a-3df8c0d7c7cf</td>\n",
       "      <td>Roland Sallai</td>\n",
       "      <td>Right Center Forward</td>\n",
       "      <td>Hungary</td>\n",
       "      <td>Pass</td>\n",
       "      <td>00:03:49.188</td>\n",
       "      <td>[111.9, 36.3]</td>\n",
       "      <td>Incomplete</td>\n",
       "      <td>True</td>\n",
       "      <td>NaN</td>\n",
       "      <td>NaN</td>\n",
       "      <td>[120.0, 0.0, 120.0, 47.1696637888298, 103.1029...</td>\n",
       "    </tr>\n",
       "    <tr>\n",
       "      <th>1607</th>\n",
       "      <td>True</td>\n",
       "      <td>False</td>\n",
       "      <td>False</td>\n",
       "      <td>[106.96752, 39.393913]</td>\n",
       "      <td>dbf6adc4-f7a3-4f1a-8c3a-3df8c0d7c7cf</td>\n",
       "      <td>Roland Sallai</td>\n",
       "      <td>Right Center Forward</td>\n",
       "      <td>Hungary</td>\n",
       "      <td>Pass</td>\n",
       "      <td>00:03:49.188</td>\n",
       "      <td>[111.9, 36.3]</td>\n",
       "      <td>Incomplete</td>\n",
       "      <td>True</td>\n",
       "      <td>NaN</td>\n",
       "      <td>NaN</td>\n",
       "      <td>[120.0, 0.0, 120.0, 47.1696637888298, 103.1029...</td>\n",
       "    </tr>\n",
       "  </tbody>\n",
       "</table>\n",
       "</div>"
      ],
      "text/plain": [
       "      teammate  actor  keeper              location_x  \\\n",
       "1603      True  False   False   [98.23187, 34.724323]   \n",
       "1604      True  False   False  [101.54566, 45.706417]   \n",
       "1605     False  False   False  [101.82803, 39.473106]   \n",
       "1606      True   True   False  [105.359116, 9.107845]   \n",
       "1607      True  False   False  [106.96752, 39.393913]   \n",
       "\n",
       "                                        id         player  \\\n",
       "1603  dbf6adc4-f7a3-4f1a-8c3a-3df8c0d7c7cf  Roland Sallai   \n",
       "1604  dbf6adc4-f7a3-4f1a-8c3a-3df8c0d7c7cf  Roland Sallai   \n",
       "1605  dbf6adc4-f7a3-4f1a-8c3a-3df8c0d7c7cf  Roland Sallai   \n",
       "1606  dbf6adc4-f7a3-4f1a-8c3a-3df8c0d7c7cf  Roland Sallai   \n",
       "1607  dbf6adc4-f7a3-4f1a-8c3a-3df8c0d7c7cf  Roland Sallai   \n",
       "\n",
       "                  position     team  type     timestamp pass_end_location  \\\n",
       "1603  Right Center Forward  Hungary  Pass  00:03:49.188     [111.9, 36.3]   \n",
       "1604  Right Center Forward  Hungary  Pass  00:03:49.188     [111.9, 36.3]   \n",
       "1605  Right Center Forward  Hungary  Pass  00:03:49.188     [111.9, 36.3]   \n",
       "1606  Right Center Forward  Hungary  Pass  00:03:49.188     [111.9, 36.3]   \n",
       "1607  Right Center Forward  Hungary  Pass  00:03:49.188     [111.9, 36.3]   \n",
       "\n",
       "     pass_outcome pass_cross interception_outcome pass_aerial_won  \\\n",
       "1603   Incomplete       True                  NaN             NaN   \n",
       "1604   Incomplete       True                  NaN             NaN   \n",
       "1605   Incomplete       True                  NaN             NaN   \n",
       "1606   Incomplete       True                  NaN             NaN   \n",
       "1607   Incomplete       True                  NaN             NaN   \n",
       "\n",
       "                                           visible_area  \n",
       "1603  [120.0, 0.0, 120.0, 47.1696637888298, 103.1029...  \n",
       "1604  [120.0, 0.0, 120.0, 47.1696637888298, 103.1029...  \n",
       "1605  [120.0, 0.0, 120.0, 47.1696637888298, 103.1029...  \n",
       "1606  [120.0, 0.0, 120.0, 47.1696637888298, 103.1029...  \n",
       "1607  [120.0, 0.0, 120.0, 47.1696637888298, 103.1029...  "
      ]
     },
     "execution_count": 214,
     "metadata": {},
     "output_type": "execute_result"
    }
   ],
   "source": [
    "cross_df.head()"
   ]
  },
  {
   "cell_type": "code",
   "execution_count": 221,
   "metadata": {},
   "outputs": [
    {
     "data": {
      "text/plain": [
       "array([[108.27063068,  80.        ],\n",
       "       [ 85.97466006,  24.7408656 ],\n",
       "       [101.92063842,  15.43495602],\n",
       "       [120.        ,  37.30502123],\n",
       "       [120.        ,  80.        ],\n",
       "       [108.27063068,  80.        ]])"
      ]
     },
     "execution_count": 221,
     "metadata": {},
     "output_type": "execute_result"
    }
   ],
   "source": [
    "d = cross_df.sample(n=1, random_state=1)\n",
    "visible_area = np.array(list(d.visible_area)).reshape(-1, 2)\n",
    "visible_area"
   ]
  },
  {
   "cell_type": "code",
   "execution_count": 150,
   "metadata": {},
   "outputs": [],
   "source": [
    "mapping = {'RF': 0,\n",
    "          'LF': 1,\n",
    "          'RB': 2,\n",
    "          'MB': 3,\n",
    "          'LB': 4,\n",
    "          'TOB': 5}"
   ]
  },
  {
   "cell_type": "code",
   "execution_count": 151,
   "metadata": {},
   "outputs": [],
   "source": [
    "def section(x,y):\n",
    "    if (x <= 60 and y <= 18) or (x >= 60 and y >= 62):\n",
    "        return 'RF'\n",
    "    elif (x <= 60 and y >= 62) or (x >= 60 and y <= 18):\n",
    "        return 'LF'\n",
    "    elif (x <= 18 and 18 <= y <= 30) or (x >= 102 and 50 <= y <= 62):\n",
    "        return 'RB'\n",
    "    elif (x <= 18 and 30 <= y <= 50) or (x >= 102 and 30 <= y <= 50):\n",
    "        return 'MB'\n",
    "    elif (x <= 18 and 50 <= y <= 62) or (x >= 102 and 18 <= y <= 30):\n",
    "        return 'LB'\n",
    "    elif (18 <= x <= 60 and 18 <= y <= 62) or (60 <= x <= 102 and 18 <= y <= 62):\n",
    "        return 'TOB'"
   ]
  },
  {
   "cell_type": "code",
   "execution_count": 152,
   "metadata": {},
   "outputs": [
    {
     "data": {
      "text/html": [
       "<div>\n",
       "<style scoped>\n",
       "    .dataframe tbody tr th:only-of-type {\n",
       "        vertical-align: middle;\n",
       "    }\n",
       "\n",
       "    .dataframe tbody tr th {\n",
       "        vertical-align: top;\n",
       "    }\n",
       "\n",
       "    .dataframe thead th {\n",
       "        text-align: right;\n",
       "    }\n",
       "</style>\n",
       "<table border=\"1\" class=\"dataframe\">\n",
       "  <thead>\n",
       "    <tr style=\"text-align: right;\">\n",
       "      <th></th>\n",
       "      <th>loc_x</th>\n",
       "      <th>loc_y</th>\n",
       "      <th>origin_section</th>\n",
       "      <th>freeze_frame</th>\n",
       "      <th>id</th>\n",
       "    </tr>\n",
       "  </thead>\n",
       "  <tbody>\n",
       "    <tr>\n",
       "      <th>0</th>\n",
       "      <td>105.359116</td>\n",
       "      <td>9.107845</td>\n",
       "      <td>1</td>\n",
       "      <td>[{'location': [98.23187, 34.724323], 'player':...</td>\n",
       "      <td>dbf6adc4-f7a3-4f1a-8c3a-3df8c0d7c7cf</td>\n",
       "    </tr>\n",
       "    <tr>\n",
       "      <th>1</th>\n",
       "      <td>110.447235</td>\n",
       "      <td>9.082361</td>\n",
       "      <td>1</td>\n",
       "      <td>[{'location': [101.57649, 35.85641], 'player':...</td>\n",
       "      <td>1bed968e-8f56-4920-8cf5-05af6d5b011a</td>\n",
       "    </tr>\n",
       "    <tr>\n",
       "      <th>2</th>\n",
       "      <td>116.535126</td>\n",
       "      <td>64.346250</td>\n",
       "      <td>0</td>\n",
       "      <td>[{'location': [101.91418, 28.932884], 'player'...</td>\n",
       "      <td>7962e010-ffd1-44eb-8d76-cdbec628cf3b</td>\n",
       "    </tr>\n",
       "    <tr>\n",
       "      <th>3</th>\n",
       "      <td>104.514820</td>\n",
       "      <td>4.531400</td>\n",
       "      <td>1</td>\n",
       "      <td>[{'location': [93.79003, 6.53849], 'player': {...</td>\n",
       "      <td>0ad95dcd-a1d2-4df1-a2b1-32c793913649</td>\n",
       "    </tr>\n",
       "    <tr>\n",
       "      <th>4</th>\n",
       "      <td>108.423330</td>\n",
       "      <td>21.164032</td>\n",
       "      <td>4</td>\n",
       "      <td>[{'location': [89.53762, 13.97899], 'player': ...</td>\n",
       "      <td>a9f58db2-f438-417f-9352-b50b91b54850</td>\n",
       "    </tr>\n",
       "  </tbody>\n",
       "</table>\n",
       "</div>"
      ],
      "text/plain": [
       "        loc_x      loc_y  origin_section  \\\n",
       "0  105.359116   9.107845               1   \n",
       "1  110.447235   9.082361               1   \n",
       "2  116.535126  64.346250               0   \n",
       "3  104.514820   4.531400               1   \n",
       "4  108.423330  21.164032               4   \n",
       "\n",
       "                                        freeze_frame  \\\n",
       "0  [{'location': [98.23187, 34.724323], 'player':...   \n",
       "1  [{'location': [101.57649, 35.85641], 'player':...   \n",
       "2  [{'location': [101.91418, 28.932884], 'player'...   \n",
       "3  [{'location': [93.79003, 6.53849], 'player': {...   \n",
       "4  [{'location': [89.53762, 13.97899], 'player': ...   \n",
       "\n",
       "                                     id  \n",
       "0  dbf6adc4-f7a3-4f1a-8c3a-3df8c0d7c7cf  \n",
       "1  1bed968e-8f56-4920-8cf5-05af6d5b011a  \n",
       "2  7962e010-ffd1-44eb-8d76-cdbec628cf3b  \n",
       "3  0ad95dcd-a1d2-4df1-a2b1-32c793913649  \n",
       "4  a9f58db2-f438-417f-9352-b50b91b54850  "
      ]
     },
     "execution_count": 152,
     "metadata": {},
     "output_type": "execute_result"
    }
   ],
   "source": [
    "x_locs, y_locs, origin_sections, freeze_frames, ids =  [], [], [], [], []\n",
    "\n",
    "for i in cross_df.id.unique():\n",
    "    df = cross_df[cross_df['id'] == i]\n",
    "    \n",
    "    frame = []\n",
    "    for id,row in df.iterrows():\n",
    "        if row.actor == True:\n",
    "            x_locs.append(row.location_x[0])\n",
    "            y_locs.append(row.location_x[1])\n",
    "            origin_sections.append(mapping[section(row.location_x[0], row.location_x[1])])\n",
    "            ids.append(row.id)\n",
    "        else:\n",
    "            freeze_frame = {}\n",
    "            freeze_frame['location'] = row.location_x\n",
    "            freeze_frame['player'] = {'name': row.player}\n",
    "            if row.keeper == True: freeze_frame['position'] = {'name': 'Goalkeeper'}\n",
    "            else: freeze_frame['position'] = {'name': ''} # no pos data on non-actors\n",
    "            freeze_frame['teammate'] = row.teammate\n",
    "            frame.append(freeze_frame)\n",
    "    freeze_frames.append(frame)\n",
    "    \n",
    "d = {'loc_x': x_locs, 'loc_y': y_locs, 'origin_section': origin_sections,\n",
    "     'freeze_frame': freeze_frames, 'id':ids }\n",
    "\n",
    "input_data = pd.DataFrame(data=d)\n",
    "input_data.head()"
   ]
  },
  {
   "cell_type": "code",
   "execution_count": 171,
   "metadata": {},
   "outputs": [
    {
     "data": {
      "text/html": [
       "<div>\n",
       "<style scoped>\n",
       "    .dataframe tbody tr th:only-of-type {\n",
       "        vertical-align: middle;\n",
       "    }\n",
       "\n",
       "    .dataframe tbody tr th {\n",
       "        vertical-align: top;\n",
       "    }\n",
       "\n",
       "    .dataframe thead th {\n",
       "        text-align: right;\n",
       "    }\n",
       "</style>\n",
       "<table border=\"1\" class=\"dataframe\">\n",
       "  <thead>\n",
       "    <tr style=\"text-align: right;\">\n",
       "      <th></th>\n",
       "      <th>loc_x</th>\n",
       "      <th>loc_y</th>\n",
       "      <th>origin_section</th>\n",
       "      <th>freeze_frame</th>\n",
       "      <th>id</th>\n",
       "    </tr>\n",
       "  </thead>\n",
       "  <tbody>\n",
       "    <tr>\n",
       "      <th>3</th>\n",
       "      <td>104.51482</td>\n",
       "      <td>4.5314</td>\n",
       "      <td>1</td>\n",
       "      <td>[{'location': [93.79003, 6.53849], 'player': {...</td>\n",
       "      <td>0ad95dcd-a1d2-4df1-a2b1-32c793913649</td>\n",
       "    </tr>\n",
       "  </tbody>\n",
       "</table>\n",
       "</div>"
      ],
      "text/plain": [
       "       loc_x   loc_y  origin_section  \\\n",
       "3  104.51482  4.5314               1   \n",
       "\n",
       "                                        freeze_frame  \\\n",
       "3  [{'location': [93.79003, 6.53849], 'player': {...   \n",
       "\n",
       "                                     id  \n",
       "3  0ad95dcd-a1d2-4df1-a2b1-32c793913649  "
      ]
     },
     "execution_count": 171,
     "metadata": {},
     "output_type": "execute_result"
    }
   ],
   "source": [
    "cross = input_data.sample(n=1, random_state=1)\n",
    "cross"
   ]
  },
  {
   "cell_type": "code",
   "execution_count": null,
   "metadata": {},
   "outputs": [],
   "source": []
  },
  {
   "cell_type": "code",
   "execution_count": 286,
   "metadata": {},
   "outputs": [],
   "source": [
    "cross_probs = {}\n",
    "xG_probs = {}\n",
    "for zone in mapping.values():\n",
    "    if zone == list(cross.origin_section)[0]:\n",
    "        continue\n",
    "    else:\n",
    "        cross_x = list(cross.loc_x)[0]\n",
    "        cross_y = list(cross.loc_y)[0]\n",
    "        cross_dest = zone\n",
    "        tm_count, opp_count, pressure = 0,0,0\n",
    "        \n",
    "        for player in list(cross.freeze_frame)[0]:\n",
    "            player_x = player['location'][0]\n",
    "            player_y = player['location'][1]\n",
    "        \n",
    "            #count how many opponents are within 3 yards of player making the cross\n",
    "            if ((cross_x - player_x)**2 + (cross_y - player_y)**2) <= 3**2 and (player['teammate'] == False) and (player['position']['name'] != 'Goalkeeper'):\n",
    "                pressure += 1\n",
    "        \n",
    "            if player['teammate'] == True:\n",
    "                if mapping[section(player_x, player_y)] == cross_dest:\n",
    "                    tm_count+=1\n",
    "            else:\n",
    "                if mapping[section(player_x, player_y)] == cross_dest:\n",
    "                    opp_count+=1\n",
    "        \n",
    "        if tm_count == 0: # consider a zone with no teammates a bad zone to cross to \n",
    "            xG_probs[zone] = 0\n",
    "            cross_probs[zone] = 0\n",
    "        else:\n",
    "            cross_features = [cross_y, cross_dest, opp_count, tm_count, pressure]\n",
    "            pred = round(cross_prob.predict_proba([cross_features])[0][1],3)\n",
    "            cross_probs[zone] = pred\n",
    "            if opp_count <= 1: i=0         # 0 or 1 opps in zone\n",
    "            elif 2 <= opp_count <= 3: i=1  # 2 or 3 opps in zone\n",
    "            else: i=2                      # more than 3 opps in zone\n",
    "            xG_probs[zone] = round(xG[i][cross_dest] / sum(xG[i]),3)\n",
    "        \n",
    "        "
   ]
  },
  {
   "cell_type": "code",
   "execution_count": 287,
   "metadata": {},
   "outputs": [
    {
     "data": {
      "text/plain": [
       "{0: 0, 2: 0, 3: 0.47, 4: 0, 5: 0.569}"
      ]
     },
     "execution_count": 287,
     "metadata": {},
     "output_type": "execute_result"
    }
   ],
   "source": [
    "cross_probs"
   ]
  },
  {
   "cell_type": "code",
   "execution_count": 288,
   "metadata": {},
   "outputs": [
    {
     "data": {
      "text/plain": [
       "{0: 0, 2: 0, 3: 0.773, 4: 0, 5: 0.068}"
      ]
     },
     "execution_count": 288,
     "metadata": {},
     "output_type": "execute_result"
    }
   ],
   "source": [
    "xG_probs"
   ]
  },
  {
   "cell_type": "code",
   "execution_count": null,
   "metadata": {},
   "outputs": [],
   "source": []
  },
  {
   "cell_type": "code",
   "execution_count": 301,
   "metadata": {},
   "outputs": [],
   "source": [
    "# optimization\n",
    "w_cross = 0.9\n",
    "w_goal = 1-w_cross"
   ]
  },
  {
   "cell_type": "code",
   "execution_count": 302,
   "metadata": {},
   "outputs": [
    {
     "data": {
      "text/plain": [
       "(0.5189, 5)"
      ]
     },
     "execution_count": 302,
     "metadata": {},
     "output_type": "execute_result"
    }
   ],
   "source": [
    "maximum = 0\n",
    "optimal_zone = 0\n",
    "for zone in cross_probs.keys():\n",
    "    obj = w_cross*cross_probs[zone] + w_goal*xG_probs[zone] \n",
    "    if maximum < obj:\n",
    "        maximum = obj\n",
    "        optimal_zone = zone \n",
    "maximum, optimal_zone"
   ]
  },
  {
   "cell_type": "code",
   "execution_count": 303,
   "metadata": {},
   "outputs": [],
   "source": [
    "right_zone_coordinates = {0: [[102,0], [102,18], [120,18], [120,0]],\n",
    "                    1: [[102,62], [102,80], [120,80], [120,62]],\n",
    "                    2: [[102,18], [102,30], [120,30], [120,18]],\n",
    "                    3: [[102,30], [102,50], [120,50], [120,30]],\n",
    "                    4: [[102,50], [102,62], [120,62], [120,50]],\n",
    "                    5: [[102,18],[102,62],[90,62],[90,18]]}\n",
    "\n",
    "left_zone_coordinates = {0: [[0,0], [0,18], [18,18], [18,0]],\n",
    "                    1: [[0,62], [0,80], [18,80], [18,62]],\n",
    "                    2: [[0,18], [0,30], [18,30], [18,18]],\n",
    "                    3: [[0,30], [0,50], [18,50], [18,30]],\n",
    "                    4: [[0,50], [0,62], [18,62], [18,50]],\n",
    "                    5: [[18,18],[18,62],[30,62],[30,18]]}"
   ]
  },
  {
   "cell_type": "code",
   "execution_count": 304,
   "metadata": {},
   "outputs": [
    {
     "data": {
      "image/png": "[encoded data removed]",
      "text/plain": [
       "<Figure size 731.989x576 with 2 Axes>"
      ]
     },
     "metadata": {
      "needs_background": "light"
     },
     "output_type": "display_data"
    }
   ],
   "source": [
    "pitch = Pitch()\n",
    "\n",
    "fig, axs = pitch.grid(figheight=8, endnote_height=0, axis=False, grid_height=0.83)\n",
    "\n",
    "for player in list(cross.freeze_frame)[0]:\n",
    "    if player['teammate']:\n",
    "        pitch.scatter(player['location'][0], player['location'][1], c='blue',  ax=axs['pitch'])\n",
    "    else:\n",
    "        pitch.scatter(player['location'][0], player['location'][1], c='red',  ax=axs['pitch'])\n",
    "\n",
    "\n",
    "# plot cross event \n",
    "pitch.scatter(list(cross.loc_x)[0], list(cross.loc_y)[0], marker='football', edgecolors= \"blue\",\n",
    "                    s=200, ax=axs['pitch'], label='passer', zorder=1.2)\n",
    "\n",
    "\n",
    "if 60 - list(cross.loc_y)[0] > 0:\n",
    "    pitch.polygon([right_zone_coordinates[optimal_zone]], color=(1, 0, 0, 0.3), ax=axs['pitch'] )\n",
    "else:\n",
    "    pitch.polygon([left_zone_coordinates[optimal_zone]], color=(1, 0, 0, 0.3), ax=axs['pitch'] )\n",
    "\n",
    "\n",
    "plt.show()"
   ]
  },
  {
   "cell_type": "code",
   "execution_count": null,
   "metadata": {},
   "outputs": [],
   "source": []
  }
 ],
 "metadata": {
  "kernelspec": {
   "display_name": "Python 3",
   "language": "python",
   "name": "python3"
  },
  "language_info": {
   "codemirror_mode": {
    "name": "ipython",
    "version": 3
   },
   "file_extension": ".py",
   "mimetype": "text/x-python",
   "name": "python",
   "nbconvert_exporter": "python",
   "pygments_lexer": "ipython3",
   "version": "3.8.5"
  }
 },
 "nbformat": 4,
 "nbformat_minor": 4
}
