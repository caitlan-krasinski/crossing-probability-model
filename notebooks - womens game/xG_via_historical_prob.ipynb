{
 "cells": [
  {
   "cell_type": "markdown",
   "metadata": {},
   "source": [
    "# xG \n",
    "\n",
    "Given limited data for training a robust xG model, model predictions are poor and random\n",
    "\n",
    "Instead, we will use conditional probability to determine a generalized xG model:\n",
    "\n",
    "P(Goal | #opponets) = P(Goal, #opponets) / P(#opponents)\n",
    "\n",
    "In this notebook we will calculate the intersection, P(Goal, #opponents) to then calculate the above conditional probability \n",
    "\n",
    "We will only take #opponents as a feature to simplify the model \n",
    "\n",
    "Ideally, xG would be determined using an ML model but since the purpose of this project was to explore crosses, I did not have the time to prioritize a robust xG model"
   ]
  },
  {
   "cell_type": "code",
   "execution_count": 1,
   "metadata": {},
   "outputs": [],
   "source": [
    "import pandas as pd\n",
    "import numpy as np\n",
    "from pickle import dump\n",
    "\n",
    "from statsbombpy import sb\n",
    "\n",
    "from tqdm import tqdm\n",
    "import warnings\n",
    "warnings.filterwarnings('ignore')"
   ]
  },
  {
   "cell_type": "markdown",
   "metadata": {},
   "source": [
    "## Load data"
   ]
  },
  {
   "cell_type": "code",
   "execution_count": 9,
   "metadata": {},
   "outputs": [
    {
     "name": "stderr",
     "output_type": "stream",
     "text": [
      "100%|██████████| 31/31 [00:41<00:00,  1.33s/it]\n"
     ]
    },
    {
     "data": {
      "text/plain": [
       "648"
      ]
     },
     "execution_count": 9,
     "metadata": {},
     "output_type": "execute_result"
    }
   ],
   "source": [
    "# collect all shot events \n",
    "cols = ['teammate', 'actor', 'location_x', 'id',\n",
    "           'player', 'position', 'team', 'type', \n",
    "           'under_pressure', 'shot_outcome', 'shot_freeze_frame']\n",
    "\n",
    "shot_df = pd.DataFrame(columns=cols)\n",
    "\n",
    "matches = sb.matches(competition_id=53, season_id=106)\n",
    "match_ids = matches[matches['match_status_360'] == 'available'].match_id.unique()\n",
    "\n",
    "for match_id in tqdm(match_ids):\n",
    "    try:\n",
    "        events = sb.events(match_id=match_id)\n",
    "        match_frames = sb.frames(match_id=match_id, fmt='dataframe')\n",
    "\n",
    "        # join the events to the frames \n",
    "        df = pd.merge(match_frames, events, left_on='id', right_on='id', how='left')\n",
    "\n",
    "        # take relevant columns \n",
    "        df = df[cols]\n",
    "\n",
    "        # subset for shots only \n",
    "        df = df[df['type'] == 'Shot']\n",
    "        df = df[df['actor'] == True]\n",
    "\n",
    "        # append to overall df\n",
    "        shot_df = shot_df.append(df)\n",
    "    except:\n",
    "        continue\n",
    "\n",
    "shot_df[['loc_x', 'loc_y']] = shot_df['location_x'].apply(pd.Series) # separate location into x and y \n",
    "\n",
    "len(shot_df.id.unique())"
   ]
  },
  {
   "cell_type": "code",
   "execution_count": 10,
   "metadata": {},
   "outputs": [
    {
     "data": {
      "text/html": [
       "<div>\n",
       "<style scoped>\n",
       "    .dataframe tbody tr th:only-of-type {\n",
       "        vertical-align: middle;\n",
       "    }\n",
       "\n",
       "    .dataframe tbody tr th {\n",
       "        vertical-align: top;\n",
       "    }\n",
       "\n",
       "    .dataframe thead th {\n",
       "        text-align: right;\n",
       "    }\n",
       "</style>\n",
       "<table border=\"1\" class=\"dataframe\">\n",
       "  <thead>\n",
       "    <tr style=\"text-align: right;\">\n",
       "      <th></th>\n",
       "      <th>teammate</th>\n",
       "      <th>actor</th>\n",
       "      <th>location_x</th>\n",
       "      <th>id</th>\n",
       "      <th>player</th>\n",
       "      <th>position</th>\n",
       "      <th>team</th>\n",
       "      <th>type</th>\n",
       "      <th>under_pressure</th>\n",
       "      <th>shot_outcome</th>\n",
       "      <th>shot_freeze_frame</th>\n",
       "      <th>loc_x</th>\n",
       "      <th>loc_y</th>\n",
       "    </tr>\n",
       "  </thead>\n",
       "  <tbody>\n",
       "    <tr>\n",
       "      <th>246</th>\n",
       "      <td>True</td>\n",
       "      <td>True</td>\n",
       "      <td>[114.193245, 52.8877]</td>\n",
       "      <td>26fe0e8e-8f01-41ab-9450-342e49c4a349</td>\n",
       "      <td>Lauren Wade</td>\n",
       "      <td>Right Wing</td>\n",
       "      <td>Northern Ireland</td>\n",
       "      <td>Shot</td>\n",
       "      <td>NaN</td>\n",
       "      <td>Saved</td>\n",
       "      <td>[{'location': [98.7, 51.8], 'player': {'id': 4...</td>\n",
       "      <td>114.193245</td>\n",
       "      <td>52.887700</td>\n",
       "    </tr>\n",
       "    <tr>\n",
       "      <th>859</th>\n",
       "      <td>True</td>\n",
       "      <td>True</td>\n",
       "      <td>[114.50086, 38.94683]</td>\n",
       "      <td>ff9cf131-e8cf-4f65-8db7-c42d012fbde8</td>\n",
       "      <td>Bethany Mead</td>\n",
       "      <td>Right Wing</td>\n",
       "      <td>England Women's</td>\n",
       "      <td>Shot</td>\n",
       "      <td>True</td>\n",
       "      <td>Wayward</td>\n",
       "      <td>[{'location': [119.1, 38.9], 'player': {'id': ...</td>\n",
       "      <td>114.500860</td>\n",
       "      <td>38.946830</td>\n",
       "    </tr>\n",
       "    <tr>\n",
       "      <th>1261</th>\n",
       "      <td>True</td>\n",
       "      <td>True</td>\n",
       "      <td>[91.19042, 41.148174]</td>\n",
       "      <td>0257cc00-caca-48e1-bf22-add700284fea</td>\n",
       "      <td>Georgia Stanway</td>\n",
       "      <td>Right Defensive Midfield</td>\n",
       "      <td>England Women's</td>\n",
       "      <td>Shot</td>\n",
       "      <td>NaN</td>\n",
       "      <td>Blocked</td>\n",
       "      <td>[{'location': [93.0, 40.8], 'player': {'id': 1...</td>\n",
       "      <td>91.190420</td>\n",
       "      <td>41.148174</td>\n",
       "    </tr>\n",
       "    <tr>\n",
       "      <th>1805</th>\n",
       "      <td>True</td>\n",
       "      <td>True</td>\n",
       "      <td>[105.99634, 35.9548]</td>\n",
       "      <td>365618f7-ebfc-4157-97ef-0032ec5ae5f1</td>\n",
       "      <td>Lauren Wade</td>\n",
       "      <td>Right Wing</td>\n",
       "      <td>Northern Ireland</td>\n",
       "      <td>Shot</td>\n",
       "      <td>NaN</td>\n",
       "      <td>Saved</td>\n",
       "      <td>[{'location': [105.3, 35.8], 'player': {'id': ...</td>\n",
       "      <td>105.996340</td>\n",
       "      <td>35.954800</td>\n",
       "    </tr>\n",
       "    <tr>\n",
       "      <th>2223</th>\n",
       "      <td>True</td>\n",
       "      <td>True</td>\n",
       "      <td>[118.05066, 38.696938]</td>\n",
       "      <td>d9379f46-6b0c-43b7-9263-827ea837d270</td>\n",
       "      <td>Bethany Mead</td>\n",
       "      <td>Right Wing</td>\n",
       "      <td>England Women's</td>\n",
       "      <td>Shot</td>\n",
       "      <td>NaN</td>\n",
       "      <td>Blocked</td>\n",
       "      <td>[{'location': [116.2, 45.4], 'player': {'id': ...</td>\n",
       "      <td>118.050660</td>\n",
       "      <td>38.696938</td>\n",
       "    </tr>\n",
       "  </tbody>\n",
       "</table>\n",
       "</div>"
      ],
      "text/plain": [
       "     teammate actor              location_x  \\\n",
       "246      True  True   [114.193245, 52.8877]   \n",
       "859      True  True   [114.50086, 38.94683]   \n",
       "1261     True  True   [91.19042, 41.148174]   \n",
       "1805     True  True    [105.99634, 35.9548]   \n",
       "2223     True  True  [118.05066, 38.696938]   \n",
       "\n",
       "                                        id           player  \\\n",
       "246   26fe0e8e-8f01-41ab-9450-342e49c4a349      Lauren Wade   \n",
       "859   ff9cf131-e8cf-4f65-8db7-c42d012fbde8     Bethany Mead   \n",
       "1261  0257cc00-caca-48e1-bf22-add700284fea  Georgia Stanway   \n",
       "1805  365618f7-ebfc-4157-97ef-0032ec5ae5f1      Lauren Wade   \n",
       "2223  d9379f46-6b0c-43b7-9263-827ea837d270     Bethany Mead   \n",
       "\n",
       "                      position              team  type under_pressure  \\\n",
       "246                 Right Wing  Northern Ireland  Shot            NaN   \n",
       "859                 Right Wing   England Women's  Shot           True   \n",
       "1261  Right Defensive Midfield   England Women's  Shot            NaN   \n",
       "1805                Right Wing  Northern Ireland  Shot            NaN   \n",
       "2223                Right Wing   England Women's  Shot            NaN   \n",
       "\n",
       "     shot_outcome                                  shot_freeze_frame  \\\n",
       "246         Saved  [{'location': [98.7, 51.8], 'player': {'id': 4...   \n",
       "859       Wayward  [{'location': [119.1, 38.9], 'player': {'id': ...   \n",
       "1261      Blocked  [{'location': [93.0, 40.8], 'player': {'id': 1...   \n",
       "1805        Saved  [{'location': [105.3, 35.8], 'player': {'id': ...   \n",
       "2223      Blocked  [{'location': [116.2, 45.4], 'player': {'id': ...   \n",
       "\n",
       "           loc_x      loc_y  \n",
       "246   114.193245  52.887700  \n",
       "859   114.500860  38.946830  \n",
       "1261   91.190420  41.148174  \n",
       "1805  105.996340  35.954800  \n",
       "2223  118.050660  38.696938  "
      ]
     },
     "execution_count": 10,
     "metadata": {},
     "output_type": "execute_result"
    }
   ],
   "source": [
    "shot_df.head()"
   ]
  },
  {
   "cell_type": "markdown",
   "metadata": {},
   "source": [
    "## Historical shot/goal probabilities "
   ]
  },
  {
   "cell_type": "code",
   "execution_count": 11,
   "metadata": {},
   "outputs": [],
   "source": [
    "mapping = {'RF': 0,\n",
    "          'LF': 1,\n",
    "          'RB': 2,\n",
    "          'MB': 3,\n",
    "          'LB': 4,\n",
    "          'TOB': 5}"
   ]
  },
  {
   "cell_type": "code",
   "execution_count": 12,
   "metadata": {},
   "outputs": [],
   "source": [
    "def section(x,y):\n",
    "    if (x <= 60 and y <= 18) or (x >= 60 and y >= 62):\n",
    "        return 'RF'\n",
    "    elif (x <= 60 and y >= 62) or (x >= 60 and y <= 18):\n",
    "        return 'LF'\n",
    "    elif (x <= 18 and 18 <= y <= 30) or (x >= 102 and 50 <= y <= 62):\n",
    "        return 'RB'\n",
    "    elif (x <= 18 and 30 <= y <= 50) or (x >= 102 and 30 <= y <= 50):\n",
    "        return 'MB'\n",
    "    elif (x <= 18 and 50 <= y <= 62) or (x >= 102 and 18 <= y <= 30):\n",
    "        return 'LB'\n",
    "    elif (18 <= x <= 60 and 18 <= y <= 62) or (60 <= x <= 102 and 18 <= y <= 62):\n",
    "        return 'TOB'"
   ]
  },
  {
   "cell_type": "markdown",
   "metadata": {},
   "source": [
    "### Defining number of opponents\n",
    "\n",
    "We will consider a range of opponents in a zone:\n",
    "\n",
    "- 0-1 opponents\n",
    "    - 0-1 opponents means that the zone is either clear for the reciever, an equal match (1v1) or opponents are out numbered\n",
    "\n",
    "- 2-3 opponents\n",
    "\n",
    "- more than 3 opponents\n",
    "    - more than 3 opponents is an over crowded zone \n"
   ]
  },
  {
   "cell_type": "code",
   "execution_count": 13,
   "metadata": {},
   "outputs": [],
   "source": [
    "# matrix structure\n",
    "#         RF  LF  RB  MB  LB  TOB\n",
    "# 0-1\n",
    "# 2-3\n",
    "# 3+"
   ]
  },
  {
   "cell_type": "code",
   "execution_count": null,
   "metadata": {},
   "outputs": [],
   "source": []
  },
  {
   "cell_type": "code",
   "execution_count": 14,
   "metadata": {},
   "outputs": [],
   "source": [
    "# collect count of shots and goals\n",
    "shots = [[0]*6, [0]*6, [0]*6]\n",
    "goals = [[0]*6, [0]*6, [0]*6]\n",
    "\n",
    "for id, row in shot_df.iterrows():\n",
    "    # shot section \n",
    "    shot_section = section(row.loc_x, row.loc_y)\n",
    "    \n",
    "    opp_count = 0\n",
    "    \n",
    "    # count number of opponents in the zone the shot was taken \n",
    "    if not isinstance(row.shot_freeze_frame, float):\n",
    "        for player in row.shot_freeze_frame:\n",
    "            player_x = player['location'][0]\n",
    "            player_y = player['location'][1]\n",
    "\n",
    "            if player['teammate'] == False:\n",
    "                if section(player_x, player_y) == shot_section:\n",
    "                    opp_count+=1\n",
    "        \n",
    "    j = mapping[shot_section]\n",
    "    if opp_count <= 1: i=0         # 0 or 1 opps in zone\n",
    "    elif 2 <= opp_count <= 3: i=1  # 2 or 3 opps in zone\n",
    "    else: i=2                      # more than 3 opps in zone\n",
    "\n",
    "    if row.shot_outcome == 'Goal':\n",
    "        goals[i][j] = goals[i][j] + 1\n",
    "\n",
    "    shots[i][j] = shots[i][j] + 1"
   ]
  },
  {
   "cell_type": "code",
   "execution_count": 15,
   "metadata": {},
   "outputs": [
    {
     "data": {
      "text/plain": [
       "[[0, 0, 2, 7, 1, 2], [0, 0, 0, 8, 1, 1], [0, 0, 0, 49, 0, 3]]"
      ]
     },
     "execution_count": 15,
     "metadata": {},
     "output_type": "execute_result"
    }
   ],
   "source": [
    "goals"
   ]
  },
  {
   "cell_type": "code",
   "execution_count": 16,
   "metadata": {},
   "outputs": [
    {
     "data": {
      "text/plain": [
       "[[2, 2, 29, 9, 26, 20], [1, 3, 35, 21, 26, 50], [1, 0, 2, 293, 1, 127]]"
      ]
     },
     "execution_count": 16,
     "metadata": {},
     "output_type": "execute_result"
    }
   ],
   "source": [
    "shots"
   ]
  },
  {
   "cell_type": "code",
   "execution_count": 17,
   "metadata": {},
   "outputs": [
    {
     "data": {
      "text/plain": [
       "[[0.0, 0.0, 0.069, 0.7778, 0.0385, 0.1],\n",
       " [0.0, 0.0, 0.0, 0.381, 0.0385, 0.02],\n",
       " [0.0, 0, 0.0, 0.1672, 0.0, 0.0236]]"
      ]
     },
     "execution_count": 17,
     "metadata": {},
     "output_type": "execute_result"
    }
   ],
   "source": [
    "# calculate probs \n",
    "p = [[0]*6, [0]*6, [0]*6]\n",
    "\n",
    "for i in range(len(shots)):\n",
    "    for j in range(len(shots[0])):\n",
    "        if shots[i][j] > 0:\n",
    "            p[i][j] = round(goals[i][j] / shots[i][j], 4)\n",
    "        else:\n",
    "             p[i][j] = 0\n",
    "\n",
    "p"
   ]
  },
  {
   "cell_type": "markdown",
   "metadata": {},
   "source": [
    "### Applying conditional probability\n",
    "\n",
    "EX: Prob of goal given 0 or 1 opponents in the shooting zone (Middle Box)\n",
    "\n",
    "P(G | 0-1) = P(G, 0-1) / P(0-1)"
   ]
  },
  {
   "cell_type": "code",
   "execution_count": 18,
   "metadata": {},
   "outputs": [
    {
     "data": {
      "text/plain": [
       "0.7894042423627322"
      ]
     },
     "execution_count": 18,
     "metadata": {},
     "output_type": "execute_result"
    }
   ],
   "source": [
    "p[0][3] / sum(p[0])"
   ]
  },
  {
   "cell_type": "markdown",
   "metadata": {},
   "source": [
    "## Save probabilities "
   ]
  },
  {
   "cell_type": "code",
   "execution_count": 20,
   "metadata": {},
   "outputs": [],
   "source": [
    "dump(p, open('/Users/CaitlanKrasinski/Desktop/crossing-probability-model/models/xG_historical_probs_womens_euros.pkl', 'wb'))"
   ]
  },
  {
   "cell_type": "code",
   "execution_count": null,
   "metadata": {},
   "outputs": [],
   "source": []
  }
 ],
 "metadata": {
  "kernelspec": {
   "display_name": "Python 3",
   "language": "python",
   "name": "python3"
  },
  "language_info": {
   "codemirror_mode": {
    "name": "ipython",
    "version": 3
   },
   "file_extension": ".py",
   "mimetype": "text/x-python",
   "name": "python",
   "nbconvert_exporter": "python",
   "pygments_lexer": "ipython3",
   "version": "3.8.5"
  }
 },
 "nbformat": 4,
 "nbformat_minor": 4
}
