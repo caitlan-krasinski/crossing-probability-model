{
 "cells": [
  {
   "cell_type": "markdown",
   "metadata": {},
   "source": [
    "# xG \n",
    "\n",
    "Given limited data for training a robust xG model, model predictions are poor and random\n",
    "\n",
    "Instead, we will use conditional probability to determine a generalized xG model:\n",
    "\n",
    "P(Goal | #opponets) = P(Goal, #opponets) / P(#opponents)\n",
    "\n",
    "In this notebook we will calculate the intersection, P(Goal, #opponents) to then calculate the above conditional probability \n",
    "\n",
    "We will only take #opponents as a feature to simplify the model \n",
    "\n",
    "Ideally, xG would be determined using an ML model but since the purpose of this project was to explore crosses, I did not have the time to devote a great deal to an xG model"
   ]
  },
  {
   "cell_type": "code",
   "execution_count": 58,
   "metadata": {},
   "outputs": [],
   "source": [
    "import pandas as pd\n",
    "import numpy as np\n",
    "from pickle import dump\n",
    "\n",
    "from statsbombpy import sb\n",
    "\n",
    "from tqdm import tqdm\n",
    "import warnings\n",
    "warnings.filterwarnings('ignore')"
   ]
  },
  {
   "cell_type": "markdown",
   "metadata": {},
   "source": [
    "## Load data"
   ]
  },
  {
   "cell_type": "code",
   "execution_count": 2,
   "metadata": {},
   "outputs": [
    {
     "name": "stderr",
     "output_type": "stream",
     "text": [
      "100%|██████████| 51/51 [03:28<00:00,  4.09s/it]\n"
     ]
    },
    {
     "data": {
      "text/plain": [
       "1221"
      ]
     },
     "execution_count": 2,
     "metadata": {},
     "output_type": "execute_result"
    }
   ],
   "source": [
    "# collect all passing events \n",
    "cols = ['teammate', 'actor', 'location_x', 'id',\n",
    "           'player', 'position', 'team', 'type', \n",
    "           'under_pressure', 'shot_outcome']\n",
    "\n",
    "shot_df = pd.DataFrame(columns=cols)\n",
    "\n",
    "matches = sb.matches(competition_id=55, season_id=43)\n",
    "match_ids = matches[matches['match_status_360'] == 'available'].match_id.unique()\n",
    "\n",
    "for match_id in tqdm(match_ids):\n",
    "    \n",
    "    events = sb.events(match_id=match_id)\n",
    "    match_frames = sb.frames(match_id=match_id, fmt='dataframe')\n",
    "\n",
    "    # join the events to the frames \n",
    "    df = pd.merge(match_frames, events, left_on='id', right_on='id', how='left')\n",
    "    \n",
    "    # take relevant columns \n",
    "    df = df[cols]\n",
    "    \n",
    "    # subset for shots only \n",
    "    df = df[df['type'] == 'Shot']\n",
    "    df = df[df['actor'] == True]\n",
    "    \n",
    "    # append to overall df\n",
    "    shot_df = shot_df.append(df)\n",
    "\n",
    "shot_df[['loc_x', 'loc_y']] = shot_df['location_x'].apply(pd.Series) # separate location into x and y \n",
    "\n",
    "len(shot_df.id.unique())"
   ]
  },
  {
   "cell_type": "code",
   "execution_count": 14,
   "metadata": {},
   "outputs": [
    {
     "data": {
      "text/html": [
       "<div>\n",
       "<style scoped>\n",
       "    .dataframe tbody tr th:only-of-type {\n",
       "        vertical-align: middle;\n",
       "    }\n",
       "\n",
       "    .dataframe tbody tr th {\n",
       "        vertical-align: top;\n",
       "    }\n",
       "\n",
       "    .dataframe thead th {\n",
       "        text-align: right;\n",
       "    }\n",
       "</style>\n",
       "<table border=\"1\" class=\"dataframe\">\n",
       "  <thead>\n",
       "    <tr style=\"text-align: right;\">\n",
       "      <th></th>\n",
       "      <th>teammate</th>\n",
       "      <th>actor</th>\n",
       "      <th>location_x</th>\n",
       "      <th>id</th>\n",
       "      <th>player</th>\n",
       "      <th>position</th>\n",
       "      <th>team</th>\n",
       "      <th>type</th>\n",
       "      <th>timestamp</th>\n",
       "      <th>under_pressure</th>\n",
       "      <th>goalkeeper_position</th>\n",
       "      <th>shot_outcome</th>\n",
       "      <th>shot_statsbomb_xg</th>\n",
       "      <th>shot_freeze_frame</th>\n",
       "      <th>loc_x</th>\n",
       "      <th>loc_y</th>\n",
       "    </tr>\n",
       "  </thead>\n",
       "  <tbody>\n",
       "    <tr>\n",
       "      <th>768</th>\n",
       "      <td>True</td>\n",
       "      <td>True</td>\n",
       "      <td>[101.76876, 47.53321]</td>\n",
       "      <td>91f2f8aa-4ee8-4593-97a6-1a7862a7cca5</td>\n",
       "      <td>Magomed Ozdoev</td>\n",
       "      <td>Right Defensive Midfield</td>\n",
       "      <td>Russia</td>\n",
       "      <td>Shot</td>\n",
       "      <td>00:00:29.166</td>\n",
       "      <td>NaN</td>\n",
       "      <td>NaN</td>\n",
       "      <td>Blocked</td>\n",
       "      <td>0.036601</td>\n",
       "      <td>[{'location': [64.3, 46.2], 'player': {'id': 3...</td>\n",
       "      <td>101.76876</td>\n",
       "      <td>47.533210</td>\n",
       "    </tr>\n",
       "    <tr>\n",
       "      <th>7288</th>\n",
       "      <td>True</td>\n",
       "      <td>True</td>\n",
       "      <td>[110.53585, 48.80568]</td>\n",
       "      <td>0bb2daca-ab0b-497c-ac59-3cc559be6fb7</td>\n",
       "      <td>Magomed Ozdoev</td>\n",
       "      <td>Right Defensive Midfield</td>\n",
       "      <td>Russia</td>\n",
       "      <td>Shot</td>\n",
       "      <td>00:09:42.014</td>\n",
       "      <td>NaN</td>\n",
       "      <td>NaN</td>\n",
       "      <td>Off T</td>\n",
       "      <td>0.234583</td>\n",
       "      <td>[{'location': [113.0, 43.6], 'player': {'id': ...</td>\n",
       "      <td>110.53585</td>\n",
       "      <td>48.805680</td>\n",
       "    </tr>\n",
       "    <tr>\n",
       "      <th>14372</th>\n",
       "      <td>True</td>\n",
       "      <td>True</td>\n",
       "      <td>[107.50664, 44.759357]</td>\n",
       "      <td>1215b0dc-81fb-4416-b9a6-0faf150a4e8d</td>\n",
       "      <td>Joel Pohjanpalo</td>\n",
       "      <td>Left Center Forward</td>\n",
       "      <td>Finland</td>\n",
       "      <td>Shot</td>\n",
       "      <td>00:19:53.988</td>\n",
       "      <td>NaN</td>\n",
       "      <td>NaN</td>\n",
       "      <td>Blocked</td>\n",
       "      <td>0.280135</td>\n",
       "      <td>[{'location': [105.9, 32.3], 'player': {'id': ...</td>\n",
       "      <td>107.50664</td>\n",
       "      <td>44.759357</td>\n",
       "    </tr>\n",
       "    <tr>\n",
       "      <th>14505</th>\n",
       "      <td>True</td>\n",
       "      <td>True</td>\n",
       "      <td>[111.61468, 29.156918]</td>\n",
       "      <td>1ce72d1b-a7c5-4eb3-965f-61621b798f35</td>\n",
       "      <td>Joona Toivio</td>\n",
       "      <td>Right Center Back</td>\n",
       "      <td>Finland</td>\n",
       "      <td>Shot</td>\n",
       "      <td>00:20:38.796</td>\n",
       "      <td>True</td>\n",
       "      <td>NaN</td>\n",
       "      <td>Off T</td>\n",
       "      <td>0.014893</td>\n",
       "      <td>[{'location': [112.7, 42.0], 'player': {'id': ...</td>\n",
       "      <td>111.61468</td>\n",
       "      <td>29.156918</td>\n",
       "    </tr>\n",
       "    <tr>\n",
       "      <th>18075</th>\n",
       "      <td>True</td>\n",
       "      <td>True</td>\n",
       "      <td>[115.15034, 42.60374]</td>\n",
       "      <td>7aa54ce6-106a-4e26-9fb1-77aa0d76f793</td>\n",
       "      <td>Artem Dzyuba</td>\n",
       "      <td>Center Forward</td>\n",
       "      <td>Russia</td>\n",
       "      <td>Shot</td>\n",
       "      <td>00:29:01.200</td>\n",
       "      <td>True</td>\n",
       "      <td>NaN</td>\n",
       "      <td>Blocked</td>\n",
       "      <td>0.133869</td>\n",
       "      <td>[{'location': [107.5, 32.1], 'player': {'id': ...</td>\n",
       "      <td>115.15034</td>\n",
       "      <td>42.603740</td>\n",
       "    </tr>\n",
       "  </tbody>\n",
       "</table>\n",
       "</div>"
      ],
      "text/plain": [
       "      teammate actor              location_x  \\\n",
       "768       True  True   [101.76876, 47.53321]   \n",
       "7288      True  True   [110.53585, 48.80568]   \n",
       "14372     True  True  [107.50664, 44.759357]   \n",
       "14505     True  True  [111.61468, 29.156918]   \n",
       "18075     True  True   [115.15034, 42.60374]   \n",
       "\n",
       "                                         id           player  \\\n",
       "768    91f2f8aa-4ee8-4593-97a6-1a7862a7cca5   Magomed Ozdoev   \n",
       "7288   0bb2daca-ab0b-497c-ac59-3cc559be6fb7   Magomed Ozdoev   \n",
       "14372  1215b0dc-81fb-4416-b9a6-0faf150a4e8d  Joel Pohjanpalo   \n",
       "14505  1ce72d1b-a7c5-4eb3-965f-61621b798f35     Joona Toivio   \n",
       "18075  7aa54ce6-106a-4e26-9fb1-77aa0d76f793     Artem Dzyuba   \n",
       "\n",
       "                       position     team  type     timestamp under_pressure  \\\n",
       "768    Right Defensive Midfield   Russia  Shot  00:00:29.166            NaN   \n",
       "7288   Right Defensive Midfield   Russia  Shot  00:09:42.014            NaN   \n",
       "14372       Left Center Forward  Finland  Shot  00:19:53.988            NaN   \n",
       "14505         Right Center Back  Finland  Shot  00:20:38.796           True   \n",
       "18075            Center Forward   Russia  Shot  00:29:01.200           True   \n",
       "\n",
       "      goalkeeper_position shot_outcome  shot_statsbomb_xg  \\\n",
       "768                   NaN      Blocked           0.036601   \n",
       "7288                  NaN        Off T           0.234583   \n",
       "14372                 NaN      Blocked           0.280135   \n",
       "14505                 NaN        Off T           0.014893   \n",
       "18075                 NaN      Blocked           0.133869   \n",
       "\n",
       "                                       shot_freeze_frame      loc_x      loc_y  \n",
       "768    [{'location': [64.3, 46.2], 'player': {'id': 3...  101.76876  47.533210  \n",
       "7288   [{'location': [113.0, 43.6], 'player': {'id': ...  110.53585  48.805680  \n",
       "14372  [{'location': [105.9, 32.3], 'player': {'id': ...  107.50664  44.759357  \n",
       "14505  [{'location': [112.7, 42.0], 'player': {'id': ...  111.61468  29.156918  \n",
       "18075  [{'location': [107.5, 32.1], 'player': {'id': ...  115.15034  42.603740  "
      ]
     },
     "execution_count": 14,
     "metadata": {},
     "output_type": "execute_result"
    }
   ],
   "source": [
    "shot_df.head()"
   ]
  },
  {
   "cell_type": "markdown",
   "metadata": {},
   "source": [
    "## Historical shot/goal probabilities "
   ]
  },
  {
   "cell_type": "code",
   "execution_count": 4,
   "metadata": {},
   "outputs": [],
   "source": [
    "mapping = {'RF': 0,\n",
    "          'LF': 1,\n",
    "          'RB': 2,\n",
    "          'MB': 3,\n",
    "          'LB': 4,\n",
    "          'TOB': 5}"
   ]
  },
  {
   "cell_type": "code",
   "execution_count": 5,
   "metadata": {},
   "outputs": [],
   "source": [
    "def section(x,y):\n",
    "    if (x <= 60 and y <= 18) or (x >= 60 and y >= 62):\n",
    "        return 'RF'\n",
    "    elif (x <= 60 and y >= 62) or (x >= 60 and y <= 18):\n",
    "        return 'LF'\n",
    "    elif (x <= 18 and 18 <= y <= 30) or (x >= 102 and 50 <= y <= 62):\n",
    "        return 'RB'\n",
    "    elif (x <= 18 and 30 <= y <= 50) or (x >= 102 and 30 <= y <= 50):\n",
    "        return 'MB'\n",
    "    elif (x <= 18 and 50 <= y <= 62) or (x >= 102 and 18 <= y <= 30):\n",
    "        return 'LB'\n",
    "    elif (18 <= x <= 60 and 18 <= y <= 62) or (60 <= x <= 102 and 18 <= y <= 62):\n",
    "        return 'TOB'"
   ]
  },
  {
   "cell_type": "markdown",
   "metadata": {},
   "source": [
    "### Defining number of opponents\n",
    "\n",
    "We will consider a range of opponents in a zone:\n",
    "\n",
    "- 0-1 opponents\n",
    "    - 0-1 opponents means that the zone is either clear for the reciever, an equal match (1v1) or opponents are out numbered\n",
    "\n",
    "- 2-3 opponents\n",
    "\n",
    "- more than 3 opponents\n",
    "    - more than 3 opponents is an over crowded zone \n"
   ]
  },
  {
   "cell_type": "code",
   "execution_count": 9,
   "metadata": {},
   "outputs": [],
   "source": [
    "# matrix structure\n",
    "#         RF  LF  RB  MB  LB  TOB\n",
    "# 0-1\n",
    "# 2-3\n",
    "# 3+"
   ]
  },
  {
   "cell_type": "code",
   "execution_count": null,
   "metadata": {},
   "outputs": [],
   "source": []
  },
  {
   "cell_type": "code",
   "execution_count": 40,
   "metadata": {},
   "outputs": [],
   "source": [
    "# collect count of shots and goals\n",
    "shots = [[0]*6, [0]*6, [0]*6]\n",
    "goals = [[0]*6, [0]*6, [0]*6]\n",
    "\n",
    "for id, row in shot_df.iterrows():\n",
    "    # shot section \n",
    "    shot_section = section(row.loc_x, row.loc_y)\n",
    "    \n",
    "    opp_count = 0\n",
    "    \n",
    "    # count number of opponents in the zone the shot was taken \n",
    "    if not isinstance(row.shot_freeze_frame, float):\n",
    "        for player in row.shot_freeze_frame:\n",
    "            player_x = player['location'][0]\n",
    "            player_y = player['location'][1]\n",
    "\n",
    "            if player['teammate'] == False:\n",
    "                if section(player_x, player_y) == shot_section:\n",
    "                    opp_count+=1\n",
    "        \n",
    "    j = mapping[shot_section]\n",
    "    if opp_count <= 1: i=0         # 0 or 1 opps in zone\n",
    "    elif 2 <= opp_count <= 3: i=1  # 2 or 3 opps in zone\n",
    "    else: i=2                      # more than 3 opps in zone\n",
    "\n",
    "    if row.shot_outcome == 'Goal':\n",
    "        goals[i][j] = goals[i][j] + 1\n",
    "\n",
    "    shots[i][j] = shots[i][j] + 1"
   ]
  },
  {
   "cell_type": "code",
   "execution_count": 49,
   "metadata": {},
   "outputs": [
    {
     "data": {
      "text/plain": [
       "[[0, 0, 4, 9, 4, 3], [0, 0, 2, 10, 3, 3], [0, 0, 0, 80, 0, 12]]"
      ]
     },
     "execution_count": 49,
     "metadata": {},
     "output_type": "execute_result"
    }
   ],
   "source": [
    "goals"
   ]
  },
  {
   "cell_type": "code",
   "execution_count": 50,
   "metadata": {},
   "outputs": [
    {
     "data": {
      "text/plain": [
       "[[3, 4, 61, 18, 66, 66], [0, 1, 42, 43, 67, 130], [0, 0, 8, 465, 9, 238]]"
      ]
     },
     "execution_count": 50,
     "metadata": {},
     "output_type": "execute_result"
    }
   ],
   "source": [
    "shots"
   ]
  },
  {
   "cell_type": "code",
   "execution_count": 54,
   "metadata": {},
   "outputs": [
    {
     "data": {
      "text/plain": [
       "[[0.0, 0.0, 0.0656, 0.5, 0.0606, 0.0455],\n",
       " [0, 0.0, 0.0476, 0.2326, 0.0448, 0.0231],\n",
       " [0, 0, 0.0, 0.172, 0.0, 0.0504]]"
      ]
     },
     "execution_count": 54,
     "metadata": {},
     "output_type": "execute_result"
    }
   ],
   "source": [
    "# calculate probs \n",
    "p = [[0]*6, [0]*6, [0]*6]\n",
    "\n",
    "for i in range(len(shots)):\n",
    "    for j in range(len(shots[0])):\n",
    "        if shots[i][j] > 0:\n",
    "            p[i][j] = round(goals[i][j] / shots[i][j], 4)\n",
    "        else:\n",
    "             p[i][j] = 0\n",
    "\n",
    "p"
   ]
  },
  {
   "cell_type": "markdown",
   "metadata": {},
   "source": [
    "### Applying conditional probability\n",
    "\n",
    "EX: Prob of goal given 0 or 1 opponents in the shooting zone (Middle Box)\n",
    "\n",
    "P(G | 0-1) = P(G, 0-1) / P(0-1)"
   ]
  },
  {
   "cell_type": "code",
   "execution_count": 57,
   "metadata": {},
   "outputs": [
    {
     "data": {
      "text/plain": [
       "0.7443799315170463"
      ]
     },
     "execution_count": 57,
     "metadata": {},
     "output_type": "execute_result"
    }
   ],
   "source": [
    "p[0][3] / sum(p[0])"
   ]
  },
  {
   "cell_type": "markdown",
   "metadata": {},
   "source": [
    "## Save probabilities "
   ]
  },
  {
   "cell_type": "code",
   "execution_count": 59,
   "metadata": {},
   "outputs": [],
   "source": [
    "dump(p, open('models/xG_historical_probs.pkl', 'wb'))"
   ]
  },
  {
   "cell_type": "code",
   "execution_count": null,
   "metadata": {},
   "outputs": [],
   "source": []
  }
 ],
 "metadata": {
  "kernelspec": {
   "display_name": "Python 3",
   "language": "python",
   "name": "python3"
  },
  "language_info": {
   "codemirror_mode": {
    "name": "ipython",
    "version": 3
   },
   "file_extension": ".py",
   "mimetype": "text/x-python",
   "name": "python",
   "nbconvert_exporter": "python",
   "pygments_lexer": "ipython3",
   "version": "3.8.5"
  }
 },
 "nbformat": 4,
 "nbformat_minor": 4
}
