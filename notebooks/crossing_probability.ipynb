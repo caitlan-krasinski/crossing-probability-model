{
 "cells": [
  {
   "cell_type": "markdown",
   "metadata": {},
   "source": [
    "# Cross probability model\n",
    "\n",
    "All exploratory work for determining probability of a successful cross\n"
   ]
  },
  {
   "cell_type": "markdown",
   "metadata": {},
   "source": [
    "### Reflection \n",
    "\n",
    "Given there is limited data for training, the model performance is not the best\n",
    "\n",
    "Another issue is the abiguity of incomplete vs complete cross\n",
    "- crosses can often be made into space \n",
    "- even though a cross is \"incomplete\", it doesn't mean the team can't regain possesion and now be in a more dangerous location \n",
    "\n",
    "With these considerations in mind, a better definition of incomplete vs complete may mean we end up with a more balanced dataset or better data labels for each cross\n",
    "\n",
    "Also with a larger dataset the model may be able pick up more patterns, <1000 observations for each class is not ideal to train a accurate model"
   ]
  },
  {
   "cell_type": "code",
   "execution_count": 2,
   "metadata": {},
   "outputs": [],
   "source": [
    "import pandas as pd\n",
    "import numpy as np\n",
    "import matplotlib.pyplot as plt\n",
    "\n",
    "from statsbombpy import sb\n",
    "from mplsoccer import Pitch, VerticalPitch\n",
    "\n",
    "from tqdm import tqdm\n",
    "import warnings\n",
    "warnings.filterwarnings('ignore')"
   ]
  },
  {
   "cell_type": "markdown",
   "metadata": {},
   "source": [
    "## Collect all cross events "
   ]
  },
  {
   "cell_type": "code",
   "execution_count": 3,
   "metadata": {},
   "outputs": [
    {
     "data": {
      "text/plain": [
       "array([3795220, 3788769, 3788761, 3788766, 3788764, 3788773, 3788755,\n",
       "       3788754, 3788762, 3788760, 3788747, 3788741, 3795109, 3795187,\n",
       "       3795108, 3788770, 3795506, 3794688, 3794692, 3794686, 3794687,\n",
       "       3794685, 3788774, 3788771, 3788772, 3788768, 3788767, 3788753,\n",
       "       3788765, 3788763, 3788759, 3788758, 3788757, 3788745, 3795107,\n",
       "       3795221, 3794689, 3788746, 3794691, 3794690, 3788756, 3788749,\n",
       "       3788750, 3788748, 3788751, 3788752, 3788742, 3788775, 3788776,\n",
       "       3788743, 3788744])"
      ]
     },
     "execution_count": 3,
     "metadata": {},
     "output_type": "execute_result"
    }
   ],
   "source": [
    "matches = sb.matches(competition_id=55, season_id=43)\n",
    "matches = matches[matches['match_status_360'] == 'available']\n",
    "match_ids = matches.match_id.unique()\n",
    "match_ids"
   ]
  },
  {
   "cell_type": "code",
   "execution_count": 4,
   "metadata": {},
   "outputs": [
    {
     "name": "stderr",
     "output_type": "stream",
     "text": [
      "100%|██████████| 51/51 [03:15<00:00,  3.83s/it]\n"
     ]
    },
    {
     "data": {
      "text/plain": [
       "1016"
      ]
     },
     "execution_count": 4,
     "metadata": {},
     "output_type": "execute_result"
    }
   ],
   "source": [
    "# collect all passing events \n",
    "cols = ['teammate', 'actor', 'location_x', 'id',\n",
    "           'player', 'position', 'team', 'type', 'timestamp', \n",
    "           'pass_end_location', 'pass_length', 'pass_height',\n",
    "           'pass_outcome', 'pass_recipient', 'pass_cross', 'interception_outcome',\n",
    "           'pass_aerial_won', 'pass_technique', 'play_pattern']\n",
    "\n",
    "cross_df = pd.DataFrame(columns=cols)\n",
    "\n",
    "matches = sb.matches(competition_id=55, season_id=43)\n",
    "match_ids = matches[matches['match_status_360'] == 'available'].match_id.unique()\n",
    "\n",
    "for match_id in tqdm(match_ids):\n",
    "    \n",
    "    events = sb.events(match_id=match_id)\n",
    "    match_frames = sb.frames(match_id=match_id, fmt='dataframe')\n",
    "\n",
    "    # join the events to the frames \n",
    "    df = pd.merge(match_frames, events, left_on='id', right_on='id', how='left')\n",
    "    \n",
    "    # take relevant cols \n",
    "    df = df[cols]\n",
    "\n",
    "    # filter for crosses only\n",
    "    df = df[df['pass_cross'] == True]\n",
    "\n",
    "    # append to overall df\n",
    "    cross_df = cross_df.append(df)\n",
    "\n",
    "len(cross_df.id.unique())"
   ]
  },
  {
   "cell_type": "code",
   "execution_count": 5,
   "metadata": {},
   "outputs": [
    {
     "data": {
      "text/plain": [
       "4977     [107.9, 31.6]\n",
       "4978     [107.9, 31.6]\n",
       "4979     [107.9, 31.6]\n",
       "4980     [107.9, 31.6]\n",
       "4981     [107.9, 31.6]\n",
       "             ...      \n",
       "34875    [109.3, 38.9]\n",
       "34876    [109.3, 38.9]\n",
       "34877    [109.3, 38.9]\n",
       "34878    [109.3, 38.9]\n",
       "34879    [109.3, 38.9]\n",
       "Name: pass_end_location, Length: 9263, dtype: object"
      ]
     },
     "execution_count": 5,
     "metadata": {},
     "output_type": "execute_result"
    }
   ],
   "source": [
    "cross_df[cross_df['pass_outcome'] == 'Incomplete'].pass_end_location"
   ]
  },
  {
   "cell_type": "code",
   "execution_count": 4,
   "metadata": {},
   "outputs": [
    {
     "data": {
      "text/plain": [
       "True    125\n",
       "Name: pass_aerial_won, dtype: int64"
      ]
     },
     "execution_count": 4,
     "metadata": {},
     "output_type": "execute_result"
    }
   ],
   "source": [
    "cross_df.pass_aerial_won.value_counts()"
   ]
  },
  {
   "cell_type": "code",
   "execution_count": 5,
   "metadata": {},
   "outputs": [
    {
     "data": {
      "text/plain": [
       "Through Ball    170\n",
       "Name: pass_technique, dtype: int64"
      ]
     },
     "execution_count": 5,
     "metadata": {},
     "output_type": "execute_result"
    }
   ],
   "source": [
    "cross_df.pass_technique.value_counts()"
   ]
  },
  {
   "cell_type": "code",
   "execution_count": 6,
   "metadata": {},
   "outputs": [
    {
     "data": {
      "text/plain": [
       "High Pass      11027\n",
       "Ground Pass     2463\n",
       "Low Pass        2163\n",
       "Name: pass_height, dtype: int64"
      ]
     },
     "execution_count": 6,
     "metadata": {},
     "output_type": "execute_result"
    }
   ],
   "source": [
    "cross_df.pass_height.value_counts()"
   ]
  },
  {
   "cell_type": "markdown",
   "metadata": {},
   "source": [
    "majority of passes are made high in the air"
   ]
  },
  {
   "cell_type": "code",
   "execution_count": 7,
   "metadata": {},
   "outputs": [
    {
     "data": {
      "text/plain": [
       "Incomplete          9263\n",
       "Out                  880\n",
       "Unknown              310\n",
       "Pass Offside          49\n",
       "Injury Clearance      21\n",
       "Name: pass_outcome, dtype: int64"
      ]
     },
     "execution_count": 7,
     "metadata": {},
     "output_type": "execute_result"
    }
   ],
   "source": [
    "cross_df.pass_outcome.value_counts()"
   ]
  },
  {
   "cell_type": "markdown",
   "metadata": {},
   "source": [
    "## Generate freeze frames for each cross event \n",
    "\n",
    "Similar to the freeze frames provided for shots"
   ]
  },
  {
   "cell_type": "code",
   "execution_count": 8,
   "metadata": {},
   "outputs": [],
   "source": [
    "data_freeze_frame = pd.DataFrame()\n",
    "outcomes = []\n",
    "locations = []\n",
    "end_locations = []\n",
    "lengths = []\n",
    "heights = []\n",
    "freeze_frames=  []\n",
    "\n",
    "for i in cross_df.id.unique():\n",
    "    df = cross_df[cross_df['id'] == i]\n",
    "    \n",
    "    frame = []\n",
    "    for id,row in df.iterrows():\n",
    "        if row.actor == True:\n",
    "            outcomes.append(row.pass_outcome)\n",
    "            locations.append(row.location_x)\n",
    "            end_locations.append(row.pass_end_location)\n",
    "            lengths.append(row.pass_length)\n",
    "            heights.append(row.pass_height)\n",
    "        else:\n",
    "            freeze_frame = {}\n",
    "            freeze_frame['location'] = row.location_x\n",
    "            freeze_frame['player'] = {'name': row.player}\n",
    "            freeze_frame['position'] = {'name': row.position}\n",
    "            freeze_frame['teammate'] = row.teammate\n",
    "            frame.append(freeze_frame)\n",
    "    freeze_frames.append(frame)\n",
    "        \n",
    "data_freeze_frame['location'] = locations\n",
    "data_freeze_frame['pass_end_location'] = end_locations\n",
    "data_freeze_frame['pass_length'] = lengths\n",
    "data_freeze_frame['pass_height'] = heights\n",
    "data_freeze_frame['freeze_frame'] = freeze_frames\n",
    "data_freeze_frame['outcome'] = outcomes"
   ]
  },
  {
   "cell_type": "code",
   "execution_count": 9,
   "metadata": {},
   "outputs": [],
   "source": [
    "# split locations into x and y\n",
    "data_freeze_frame[['loc_x', 'loc_y']] = data_freeze_frame['location'].apply(pd.Series)\n",
    "data_freeze_frame[['cross_end_loc_x', 'cross_end_loc_y']] = data_freeze_frame['pass_end_location'].apply(pd.Series)\n",
    "data_freeze_frame = data_freeze_frame[['loc_x', 'loc_y', 'cross_end_loc_x', 'cross_end_loc_y', 'pass_length', 'pass_height', 'freeze_frame', 'outcome']]"
   ]
  },
  {
   "cell_type": "code",
   "execution_count": 10,
   "metadata": {},
   "outputs": [
    {
     "data": {
      "text/html": [
       "<div>\n",
       "<style scoped>\n",
       "    .dataframe tbody tr th:only-of-type {\n",
       "        vertical-align: middle;\n",
       "    }\n",
       "\n",
       "    .dataframe tbody tr th {\n",
       "        vertical-align: top;\n",
       "    }\n",
       "\n",
       "    .dataframe thead th {\n",
       "        text-align: right;\n",
       "    }\n",
       "</style>\n",
       "<table border=\"1\" class=\"dataframe\">\n",
       "  <thead>\n",
       "    <tr style=\"text-align: right;\">\n",
       "      <th></th>\n",
       "      <th>loc_x</th>\n",
       "      <th>loc_y</th>\n",
       "      <th>cross_end_loc_x</th>\n",
       "      <th>cross_end_loc_y</th>\n",
       "      <th>pass_length</th>\n",
       "      <th>pass_height</th>\n",
       "      <th>freeze_frame</th>\n",
       "      <th>outcome</th>\n",
       "    </tr>\n",
       "  </thead>\n",
       "  <tbody>\n",
       "    <tr>\n",
       "      <th>0</th>\n",
       "      <td>100.32713</td>\n",
       "      <td>14.455826</td>\n",
       "      <td>107.9</td>\n",
       "      <td>31.6</td>\n",
       "      <td>24.667793</td>\n",
       "      <td>Ground Pass</td>\n",
       "      <td>[{'location': [84.70584, 39.23412], 'player': ...</td>\n",
       "      <td>Incomplete</td>\n",
       "    </tr>\n",
       "    <tr>\n",
       "      <th>1</th>\n",
       "      <td>100.88759</td>\n",
       "      <td>66.107300</td>\n",
       "      <td>115.1</td>\n",
       "      <td>35.0</td>\n",
       "      <td>39.924930</td>\n",
       "      <td>Low Pass</td>\n",
       "      <td>[{'location': [92.973495, 49.535145], 'player'...</td>\n",
       "      <td>Incomplete</td>\n",
       "    </tr>\n",
       "    <tr>\n",
       "      <th>2</th>\n",
       "      <td>105.85606</td>\n",
       "      <td>52.998516</td>\n",
       "      <td>102.7</td>\n",
       "      <td>48.9</td>\n",
       "      <td>11.301770</td>\n",
       "      <td>Ground Pass</td>\n",
       "      <td>[{'location': [93.57571, 42.95422], 'player': ...</td>\n",
       "      <td>NaN</td>\n",
       "    </tr>\n",
       "    <tr>\n",
       "      <th>3</th>\n",
       "      <td>106.64377</td>\n",
       "      <td>15.899750</td>\n",
       "      <td>118.8</td>\n",
       "      <td>38.5</td>\n",
       "      <td>25.492155</td>\n",
       "      <td>High Pass</td>\n",
       "      <td>[{'location': [94.62771, 24.104874], 'player':...</td>\n",
       "      <td>Incomplete</td>\n",
       "    </tr>\n",
       "    <tr>\n",
       "      <th>4</th>\n",
       "      <td>111.54828</td>\n",
       "      <td>10.868190</td>\n",
       "      <td>108.5</td>\n",
       "      <td>40.4</td>\n",
       "      <td>30.112455</td>\n",
       "      <td>High Pass</td>\n",
       "      <td>[{'location': [98.72852, 16.362564], 'player':...</td>\n",
       "      <td>Incomplete</td>\n",
       "    </tr>\n",
       "  </tbody>\n",
       "</table>\n",
       "</div>"
      ],
      "text/plain": [
       "       loc_x      loc_y  cross_end_loc_x  cross_end_loc_y  pass_length  \\\n",
       "0  100.32713  14.455826            107.9             31.6    24.667793   \n",
       "1  100.88759  66.107300            115.1             35.0    39.924930   \n",
       "2  105.85606  52.998516            102.7             48.9    11.301770   \n",
       "3  106.64377  15.899750            118.8             38.5    25.492155   \n",
       "4  111.54828  10.868190            108.5             40.4    30.112455   \n",
       "\n",
       "   pass_height                                       freeze_frame     outcome  \n",
       "0  Ground Pass  [{'location': [84.70584, 39.23412], 'player': ...  Incomplete  \n",
       "1     Low Pass  [{'location': [92.973495, 49.535145], 'player'...  Incomplete  \n",
       "2  Ground Pass  [{'location': [93.57571, 42.95422], 'player': ...         NaN  \n",
       "3    High Pass  [{'location': [94.62771, 24.104874], 'player':...  Incomplete  \n",
       "4    High Pass  [{'location': [98.72852, 16.362564], 'player':...  Incomplete  "
      ]
     },
     "execution_count": 10,
     "metadata": {},
     "output_type": "execute_result"
    }
   ],
   "source": [
    "data_freeze_frame.head()"
   ]
  },
  {
   "cell_type": "markdown",
   "metadata": {},
   "source": [
    "# Exploration of transition probabilities \n",
    "\n",
    "Probability of cross made from zone i to j"
   ]
  },
  {
   "cell_type": "markdown",
   "metadata": {},
   "source": [
    "For simplicity, divide into 6 zones: right box (RB), middle box (MB), left box (LB), top of box (TOB) and far side (right (RF) and left flank (LF), mostly where the crosses will be made from)"
   ]
  },
  {
   "cell_type": "code",
   "execution_count": 11,
   "metadata": {},
   "outputs": [],
   "source": [
    "def section(x,y):\n",
    "    if (x <= 60 and y <= 18) or (x >= 60 and y >= 62):\n",
    "        return 'RF'\n",
    "    elif (x <= 60 and y >= 62) or (x >= 60 and y <= 18):\n",
    "        return 'LF'\n",
    "    elif (x <= 18 and 18 <= y <= 30) or (x >= 102 and 50 <= y <= 62):\n",
    "        return 'RB'\n",
    "    elif (x <= 18 and 30 <= y <= 50) or (x >= 102 and 30 <= y <= 50):\n",
    "        return 'MB'\n",
    "    elif (x <= 18 and 50 <= y <= 62) or (x >= 102 and 18 <= y <= 30):\n",
    "        return 'LB'\n",
    "    elif (18 <= x <= 60 and 18 <= y <= 62) or (60 <= x <= 102 and 18 <= y <= 62):\n",
    "        return 'TOB'"
   ]
  },
  {
   "cell_type": "code",
   "execution_count": 12,
   "metadata": {},
   "outputs": [],
   "source": [
    "mapping = {'RF': 0,\n",
    "          'LF': 1,\n",
    "          'RB': 2,\n",
    "          'MB': 3,\n",
    "          'LB': 4,\n",
    "          'TOB': 5}"
   ]
  },
  {
   "cell_type": "code",
   "execution_count": 13,
   "metadata": {},
   "outputs": [],
   "source": [
    "# counts of crosses from i to j \n",
    "counts = [[0]*6, [0]*6, [0]*6, [0]*6, [0]*6, [0]*6]"
   ]
  },
  {
   "cell_type": "code",
   "execution_count": 14,
   "metadata": {},
   "outputs": [],
   "source": [
    "for id, row in data_freeze_frame.iterrows():\n",
    "    # cross section \n",
    "    cross_section = section(row.loc_x, row.loc_y)\n",
    "\n",
    "    # end section \n",
    "    end_section = section(row.cross_end_loc_x, row.cross_end_loc_y)\n",
    "\n",
    "    i = mapping[cross_section]\n",
    "    j = mapping[end_section]\n",
    "    counts[i][j] = counts[i][j] + 1"
   ]
  },
  {
   "cell_type": "code",
   "execution_count": 15,
   "metadata": {},
   "outputs": [
    {
     "data": {
      "text/plain": [
       "[[0, 25, 2, 318, 34, 2],\n",
       " [26, 0, 38, 264, 0, 3],\n",
       " [0, 6, 2, 107, 5, 1],\n",
       " [0, 0, 0, 1, 0, 0],\n",
       " [4, 0, 6, 113, 0, 3],\n",
       " [3, 1, 4, 42, 6, 0]]"
      ]
     },
     "execution_count": 15,
     "metadata": {},
     "output_type": "execute_result"
    }
   ],
   "source": [
    "counts"
   ]
  },
  {
   "cell_type": "code",
   "execution_count": 16,
   "metadata": {},
   "outputs": [
    {
     "data": {
      "text/plain": [
       "[[0.0, 0.0656, 0.0052, 0.8346, 0.0892, 0.0052],\n",
       " [0.0785, 0.0, 0.1148, 0.7976, 0.0, 0.0091],\n",
       " [0.0, 0.0496, 0.0165, 0.8843, 0.0413, 0.0083],\n",
       " [0.0, 0.0, 0.0, 1.0, 0.0, 0.0],\n",
       " [0.0317, 0.0, 0.0476, 0.8968, 0.0, 0.0238],\n",
       " [0.0536, 0.0179, 0.0714, 0.75, 0.1071, 0.0]]"
      ]
     },
     "execution_count": 16,
     "metadata": {},
     "output_type": "execute_result"
    }
   ],
   "source": [
    "# Calculate probs \n",
    "p = [[0]*6, [0]*6, [0]*6, [0]*6, [0]*6, [0]*6]\n",
    "\n",
    "for i in range(len(counts)):\n",
    "    for j in range(len(counts)):\n",
    "        p[i][j] = round(counts[i][j] / sum(counts[i]),4)\n",
    "\n",
    "p"
   ]
  },
  {
   "cell_type": "markdown",
   "metadata": {},
   "source": [
    "## Extract additional features"
   ]
  },
  {
   "cell_type": "markdown",
   "metadata": {},
   "source": [
    "From research, Statsbomb has concluded that the radius of pressure is roughly 2.3 yards ~= 3 yards.\n",
    "\n",
    "\"That means the pressure radius is on average only, 2.3 yards\"\n",
    "\n",
    "https://statsbomb.com/articles/soccer/shots-under-pressure-part-2-headers/\n",
    "\n",
    "When determining pressure on a cross, we will look at players within 3 yards of the actor"
   ]
  },
  {
   "cell_type": "code",
   "execution_count": 17,
   "metadata": {},
   "outputs": [],
   "source": [
    "pass_height_mapping = {'High Pass': 0,\n",
    "                'Ground Pass': 1,\n",
    "                'Low Pass': 2 }"
   ]
  },
  {
   "cell_type": "code",
   "execution_count": 18,
   "metadata": {},
   "outputs": [],
   "source": [
    "outcomes = []\n",
    "origin_sections = []\n",
    "destination_sections = []\n",
    "opp_in_dest = []\n",
    "tm_in_dest = []\n",
    "pressures = []\n",
    "pass_heights = []\n",
    "\n",
    "for id, row in data_freeze_frame.iterrows():\n",
    "    if row.outcome in ['Incomplete', 'Out']: outcomes.append(0)\n",
    "    else: outcomes.append(1)\n",
    "       \n",
    "    cross_x = row.loc_x\n",
    "    cross_y = row.loc_y\n",
    "    \n",
    "    destination = section(row.cross_end_loc_x, row.cross_end_loc_y)\n",
    "\n",
    "    origin_sections.append(mapping[section(cross_x, cross_y)])\n",
    "    destination_sections.append(mapping[destination])\n",
    "    pass_heights.append(pass_height_mapping[row.pass_height])\n",
    "    \n",
    "    opp_count = 0\n",
    "    tm_count = 0\n",
    "    pressure = 0\n",
    "    \n",
    "    for player in row.freeze_frame:\n",
    "        player_x = player['location'][0]\n",
    "        player_y = player['location'][1]\n",
    "        \n",
    "        #count how many opponents are within 3 yards of player making the cross\n",
    "        if ((cross_x - player_x)**2 + (cross_y - player_y)**2) <= 3**2 and (player['teammate'] == False) and (player['position']['name'] != 'Goalkeeper'):\n",
    "            pressure += 1\n",
    "        \n",
    "        # count of teammates in cross destination zone\n",
    "        if player['teammate'] == True:\n",
    "            if section(player_x, player_y) == destination:\n",
    "                tm_count+=1\n",
    "                \n",
    "        # count of opponents in cross destination zone\n",
    "        else:\n",
    "            if section(player_x, player_y) == destination:\n",
    "                opp_count+=1\n",
    "                \n",
    "    opp_in_dest.append(opp_count)\n",
    "    tm_in_dest.append(tm_count)\n",
    "    pressures.append(pressure)\n",
    "            \n",
    "    \n",
    "data_freeze_frame['outcome'] = outcomes\n",
    "data_freeze_frame['cross_origin'] = origin_sections\n",
    "data_freeze_frame['cross_dest'] = destination_sections\n",
    "data_freeze_frame['zone_pressure'] = opp_in_dest # num opp in dest zone\n",
    "data_freeze_frame['zone_support'] = tm_in_dest # num teammates in dest zone \n",
    "data_freeze_frame['cross_pressure'] = pressures # num of opp on crosser\n",
    "data_freeze_frame['cross_height'] = pass_heights\n"
   ]
  },
  {
   "cell_type": "code",
   "execution_count": 19,
   "metadata": {},
   "outputs": [
    {
     "data": {
      "text/html": [
       "<div>\n",
       "<style scoped>\n",
       "    .dataframe tbody tr th:only-of-type {\n",
       "        vertical-align: middle;\n",
       "    }\n",
       "\n",
       "    .dataframe tbody tr th {\n",
       "        vertical-align: top;\n",
       "    }\n",
       "\n",
       "    .dataframe thead th {\n",
       "        text-align: right;\n",
       "    }\n",
       "</style>\n",
       "<table border=\"1\" class=\"dataframe\">\n",
       "  <thead>\n",
       "    <tr style=\"text-align: right;\">\n",
       "      <th></th>\n",
       "      <th>loc_x</th>\n",
       "      <th>loc_y</th>\n",
       "      <th>cross_dest</th>\n",
       "      <th>cross_origin</th>\n",
       "      <th>zone_pressure</th>\n",
       "      <th>zone_support</th>\n",
       "      <th>pass_length</th>\n",
       "      <th>cross_height</th>\n",
       "      <th>cross_pressure</th>\n",
       "      <th>outcome</th>\n",
       "    </tr>\n",
       "  </thead>\n",
       "  <tbody>\n",
       "    <tr>\n",
       "      <th>0</th>\n",
       "      <td>100.32713</td>\n",
       "      <td>14.455826</td>\n",
       "      <td>3</td>\n",
       "      <td>1</td>\n",
       "      <td>5</td>\n",
       "      <td>1</td>\n",
       "      <td>24.667793</td>\n",
       "      <td>1</td>\n",
       "      <td>0</td>\n",
       "      <td>0</td>\n",
       "    </tr>\n",
       "    <tr>\n",
       "      <th>1</th>\n",
       "      <td>100.88759</td>\n",
       "      <td>66.107300</td>\n",
       "      <td>3</td>\n",
       "      <td>0</td>\n",
       "      <td>2</td>\n",
       "      <td>0</td>\n",
       "      <td>39.924930</td>\n",
       "      <td>2</td>\n",
       "      <td>0</td>\n",
       "      <td>0</td>\n",
       "    </tr>\n",
       "    <tr>\n",
       "      <th>2</th>\n",
       "      <td>105.85606</td>\n",
       "      <td>52.998516</td>\n",
       "      <td>3</td>\n",
       "      <td>2</td>\n",
       "      <td>3</td>\n",
       "      <td>0</td>\n",
       "      <td>11.301770</td>\n",
       "      <td>1</td>\n",
       "      <td>2</td>\n",
       "      <td>1</td>\n",
       "    </tr>\n",
       "    <tr>\n",
       "      <th>3</th>\n",
       "      <td>106.64377</td>\n",
       "      <td>15.899750</td>\n",
       "      <td>3</td>\n",
       "      <td>1</td>\n",
       "      <td>6</td>\n",
       "      <td>2</td>\n",
       "      <td>25.492155</td>\n",
       "      <td>0</td>\n",
       "      <td>0</td>\n",
       "      <td>0</td>\n",
       "    </tr>\n",
       "    <tr>\n",
       "      <th>4</th>\n",
       "      <td>111.54828</td>\n",
       "      <td>10.868190</td>\n",
       "      <td>3</td>\n",
       "      <td>1</td>\n",
       "      <td>6</td>\n",
       "      <td>3</td>\n",
       "      <td>30.112455</td>\n",
       "      <td>0</td>\n",
       "      <td>1</td>\n",
       "      <td>0</td>\n",
       "    </tr>\n",
       "  </tbody>\n",
       "</table>\n",
       "</div>"
      ],
      "text/plain": [
       "       loc_x      loc_y  cross_dest  cross_origin  zone_pressure  \\\n",
       "0  100.32713  14.455826           3             1              5   \n",
       "1  100.88759  66.107300           3             0              2   \n",
       "2  105.85606  52.998516           3             2              3   \n",
       "3  106.64377  15.899750           3             1              6   \n",
       "4  111.54828  10.868190           3             1              6   \n",
       "\n",
       "   zone_support  pass_length  cross_height  cross_pressure  outcome  \n",
       "0             1    24.667793             1               0        0  \n",
       "1             0    39.924930             2               0        0  \n",
       "2             0    11.301770             1               2        1  \n",
       "3             2    25.492155             0               0        0  \n",
       "4             3    30.112455             0               1        0  "
      ]
     },
     "execution_count": 19,
     "metadata": {},
     "output_type": "execute_result"
    }
   ],
   "source": [
    "data = data_freeze_frame[['loc_x', 'loc_y', 'cross_dest', 'cross_origin', 'zone_pressure', 'zone_support', 'pass_length', 'cross_height', 'cross_pressure', 'outcome']]\n",
    "\n",
    "data.head()"
   ]
  },
  {
   "cell_type": "markdown",
   "metadata": {},
   "source": [
    "## Modelling\n",
    "\n",
    "Classification model to predict if a cross will be successful or not\n",
    "\n",
    "Can then be used to predict the probability of success for each cross (rather than binary decision)\n",
    "\n",
    "Logistic regression was selected for its interpretability and ease of use\n",
    "\n",
    "Also performed better compared to tree based models such as XGBoost"
   ]
  },
  {
   "cell_type": "code",
   "execution_count": 20,
   "metadata": {},
   "outputs": [],
   "source": [
    "from sklearn.model_selection import train_test_split\n",
    "from sklearn import preprocessing\n",
    "from sklearn.metrics import precision_score, recall_score, accuracy_score\n",
    "\n",
    "from sklearn.linear_model import LogisticRegression, LogisticRegressionCV\n",
    "import seaborn as sns\n",
    "from sklearn.metrics import confusion_matrix\n"
   ]
  },
  {
   "cell_type": "code",
   "execution_count": 21,
   "metadata": {},
   "outputs": [],
   "source": [
    "# train test split\n",
    "X = data[['loc_y', 'cross_dest', 'zone_pressure', 'zone_support', 'cross_pressure']]\n",
    "y = data['outcome']\n",
    "\n",
    "train_X, test_X, train_y, test_y = train_test_split(X,y,test_size=0.2,random_state=45,stratify=y)"
   ]
  },
  {
   "cell_type": "code",
   "execution_count": 22,
   "metadata": {},
   "outputs": [
    {
     "data": {
      "text/plain": [
       "0    665\n",
       "1    351\n",
       "Name: outcome, dtype: int64"
      ]
     },
     "execution_count": 22,
     "metadata": {},
     "output_type": "execute_result"
    }
   ],
   "source": [
    "data.outcome.value_counts()"
   ]
  },
  {
   "cell_type": "markdown",
   "metadata": {},
   "source": [
    "we are dealing with an imbalanced dataset (more crosses are incomplete than successful)"
   ]
  },
  {
   "cell_type": "code",
   "execution_count": 121,
   "metadata": {},
   "outputs": [
    {
     "name": "stdout",
     "output_type": "stream",
     "text": [
      "Training target statistics: Counter({1: 531, 0: 531})\n"
     ]
    }
   ],
   "source": [
    "# Balance the data via oversampling \n",
    "from imblearn.over_sampling import RandomOverSampler\n",
    "from collections import Counter\n",
    "\n",
    "over_sampler = RandomOverSampler(random_state=42)\n",
    "X_res, y_res = over_sampler.fit_resample(train_X, train_y)\n",
    "\n",
    "print(f\"Training target statistics: {Counter(y_res)}\")\n",
    "\n"
   ]
  },
  {
   "cell_type": "code",
   "execution_count": 23,
   "metadata": {},
   "outputs": [],
   "source": [
    "model = LogisticRegression()\n",
    "model.fit(train_X, train_y)\n",
    "y_pred = model.predict(test_X)"
   ]
  },
  {
   "cell_type": "code",
   "execution_count": 123,
   "metadata": {},
   "outputs": [
    {
     "name": "stdout",
     "output_type": "stream",
     "text": [
      "-6.161075185423454e-05\n",
      "-0.13864884262261676\n",
      "-0.1412220171495498\n",
      "0.19667478367257762\n",
      "-0.02627764046468265\n"
     ]
    }
   ],
   "source": [
    "for cof in model.coef_[0]:\n",
    "    print(cof)"
   ]
  },
  {
   "cell_type": "code",
   "execution_count": 24,
   "metadata": {},
   "outputs": [
    {
     "data": {
      "text/plain": [
       "<AxesSubplot:>"
      ]
     },
     "execution_count": 24,
     "metadata": {},
     "output_type": "execute_result"
    },
    {
     "data": {
      "image/png": "[encoded data removed]",
      "text/plain": [
       "<Figure size 432x288 with 2 Axes>"
      ]
     },
     "metadata": {
      "needs_background": "light"
     },
     "output_type": "display_data"
    }
   ],
   "source": [
    "cm=confusion_matrix(test_y, y_pred)\n",
    "sns.heatmap(cm,cmap='BuPu',annot=True,fmt='d', xticklabels=['failed', 'success'], yticklabels=['failed', 'success'])"
   ]
  },
  {
   "cell_type": "code",
   "execution_count": 25,
   "metadata": {},
   "outputs": [
    {
     "name": "stdout",
     "output_type": "stream",
     "text": [
      "******** LR **********\n",
      "Precision Score:  0.0\n",
      "Recall Score:  0.0\n",
      "Accuracy Score:  0.6568627450980392\n",
      "***********************\n"
     ]
    }
   ],
   "source": [
    "print('******** LR **********')\n",
    "print('Precision Score: ',precision_score(test_y,y_pred))\n",
    "print('Recall Score: ',recall_score(test_y,y_pred))\n",
    "print('Accuracy Score: ',accuracy_score(test_y,y_pred))\n",
    "print('***********************')"
   ]
  },
  {
   "cell_type": "markdown",
   "metadata": {},
   "source": [
    "### Cross validation"
   ]
  },
  {
   "cell_type": "code",
   "execution_count": 126,
   "metadata": {},
   "outputs": [
    {
     "name": "stdout",
     "output_type": "stream",
     "text": [
      "******** LR **********\n",
      "Precision Score:  0.4470588235294118\n",
      "Recall Score:  0.5428571428571428\n",
      "Accuracy Score:  0.6127450980392157\n",
      "********************************************\n"
     ]
    }
   ],
   "source": [
    "\n",
    "modelCV = LogisticRegressionCV(Cs=2, fit_intercept=True, scoring=None, solver='sag', tol=0.0001, \n",
    "                                          max_iter=100, class_weight=None)\n",
    "\n",
    "modelCV.fit(train_y, train_y)\n",
    "y_pred = modelCV.predict(test_X)\n",
    "accuracy = accuracy_score(test_y, y_pred)\n",
    "print('******** LR **********')\n",
    "print('Precision Score: ',precision_score(test_y,y_pred))\n",
    "print('Recall Score: ',recall_score(test_y,y_pred))\n",
    "print('Accuracy Score: ',accuracy_score(test_y,y_pred))\n",
    "print('***********************')"
   ]
  },
  {
   "cell_type": "markdown",
   "metadata": {},
   "source": [
    "### Try undersampling instead"
   ]
  },
  {
   "cell_type": "code",
   "execution_count": 127,
   "metadata": {},
   "outputs": [
    {
     "data": {
      "text/plain": [
       "Counter({0: 281, 1: 281})"
      ]
     },
     "execution_count": 127,
     "metadata": {},
     "output_type": "execute_result"
    }
   ],
   "source": [
    "from imblearn.under_sampling import CondensedNearestNeighbour\n",
    "from imblearn.under_sampling import NearMiss\n",
    "undersample = NearMiss()\n",
    "\n",
    "X_under, y_under = undersample.fit_resample(train_X, train_y)\n",
    "Counter(y_under)"
   ]
  },
  {
   "cell_type": "code",
   "execution_count": 128,
   "metadata": {},
   "outputs": [
    {
     "name": "stdout",
     "output_type": "stream",
     "text": [
      "******** LR **********\n",
      "Precision Score:  0.4838709677419355\n",
      "Recall Score:  0.6428571428571429\n",
      "Accuracy Score:  0.6421568627450981\n",
      "********************************************\n"
     ]
    }
   ],
   "source": [
    "\n",
    "modelCV = LogisticRegressionCV(Cs=2, fit_intercept=True, scoring=None, solver='sag', tol=0.0001, \n",
    "                                          max_iter=100, class_weight=None)\n",
    "\n",
    "modelCV.fit(X_under, y_under)\n",
    "y_pred = modelCV.predict(test_X)\n",
    "accuracy = accuracy_score(test_y, y_pred)\n",
    "print('******** LR **********')\n",
    "print('Precision Score: ',precision_score(test_y,y_pred))\n",
    "print('Recall Score: ',recall_score(test_y,y_pred))\n",
    "print('Accuracy Score: ',accuracy_score(test_y,y_pred))\n",
    "print('***********************')"
   ]
  },
  {
   "cell_type": "code",
   "execution_count": 129,
   "metadata": {},
   "outputs": [
    {
     "data": {
      "text/plain": [
       "<AxesSubplot:>"
      ]
     },
     "execution_count": 129,
     "metadata": {},
     "output_type": "execute_result"
    },
    {
     "data": {
      "image/png": "[encoded data removed]",
      "text/plain": [
       "<Figure size 432x288 with 2 Axes>"
      ]
     },
     "metadata": {
      "needs_background": "light"
     },
     "output_type": "display_data"
    }
   ],
   "source": [
    "cm=confusion_matrix(test_y, y_pred)\n",
    "sns.heatmap(cm,cmap='BuPu',annot=True,fmt='d', xticklabels=['failed', 'success'], yticklabels=['failed', 'success'])"
   ]
  },
  {
   "cell_type": "markdown",
   "metadata": {},
   "source": [
    "undersampling yields slightly better performance compared to oversampling "
   ]
  },
  {
   "cell_type": "markdown",
   "metadata": {},
   "source": [
    "if given more time, I could have explored ensemble models or more advanced machine learning models but I chose LR since I am most familar with it and tree based models were yielding not the best results when I tried trainig them"
   ]
  },
  {
   "cell_type": "markdown",
   "metadata": {},
   "source": [
    "## Serialize model"
   ]
  },
  {
   "cell_type": "code",
   "execution_count": 114,
   "metadata": {},
   "outputs": [],
   "source": [
    "from pickle import dump\n",
    "\n",
    "dump(modelCV, open('models/cross_model.pkl', 'wb'))"
   ]
  }
 ],
 "metadata": {
  "kernelspec": {
   "display_name": "Python 3",
   "language": "python",
   "name": "python3"
  },
  "language_info": {
   "codemirror_mode": {
    "name": "ipython",
    "version": 3
   },
   "file_extension": ".py",
   "mimetype": "text/x-python",
   "name": "python",
   "nbconvert_exporter": "python",
   "pygments_lexer": "ipython3",
   "version": "3.8.5"
  }
 },
 "nbformat": 4,
 "nbformat_minor": 4
}
